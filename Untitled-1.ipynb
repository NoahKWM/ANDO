{
 "cells": [
  {
   "cell_type": "code",
   "execution_count": null,
   "metadata": {},
   "outputs": [],
   "source": [
    "import numpy as np\n",
    "import matplotlib.pyplot as plt\n",
    "##==============================================================================\n",
    "# Class Gaussian\n",
    "#\n",
    "# Cette classe permet de créer une distribution gaussienne à partir de sa moyenne et de sa variance\n",
    "##==============================================================================\n",
    "class Gaussian():\n",
    "    def __init__(self, mu, sigma2):\n",
    "        self.mu = mu\n",
    "        self.sigma2 = sigma2\n",
    "\n",
    "    def __repr__(self):\n",
    "        return f\"Gaussian(µ={self.mu}, σ²={self.sigma2})\"\n",
    "\n",
    "    def pdf(self, x):\n",
    "        return (1 / (self.sigma2 * np.sqrt(2 * np.pi))) * np.exp(-0.5 * ((x - self.mu) / self.sigma2) ** 2)\n",
    "\n",
    "    def plot_pdf(self, x_min, x_max):\n",
    "        x = np.linspace(x_min, x_max, 100)\n",
    "        y = self.pdf(x)\n",
    "        plt.plot(x, y, label=self.__repr__())\n",
    "        plt.grid()\n",
    "        plt.legend()"
   ]
  },
  {
   "cell_type": "markdown",
   "metadata": {},
   "source": [
    "## EM Algorithm (2023)\n",
    "\n",
    "On souhaite appliquer l'algorithme EM sur une mixture unidimensionnelle de 2 Gaussiennes, avec pour moyennes, variances et proportions respectives:"
   ]
  }
 ],
 "metadata": {
  "language_info": {
   "name": "python"
  }
 },
 "nbformat": 4,
 "nbformat_minor": 2
}
