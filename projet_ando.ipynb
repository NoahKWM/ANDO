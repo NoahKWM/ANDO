{
 "cells": [
  {
   "cell_type": "code",
   "execution_count": 118,
   "metadata": {},
   "outputs": [],
   "source": [
    "import numpy as np\n",
    "import matplotlib.pyplot as plt"
   ]
  },
  {
   "cell_type": "markdown",
   "metadata": {},
   "source": [
    "# Projet ANDO"
   ]
  },
  {
   "cell_type": "markdown",
   "metadata": {},
   "source": [
    "## Projection Orthogonale"
   ]
  },
  {
   "cell_type": "markdown",
   "metadata": {},
   "source": [
    "**Définition** :\n",
    "\n",
    "Soit $\\mathcal{E}$ un espace vectoriel de dimension $p$. Si $\\mathcal{D}$ est une droite vectorielle engendrée par le vecteur $\\vec{a}$ qui passe par un point $Q$ de $\\mathbb{R}^p$, l'ensemble des vecteurs orthogonaux à $\\mathcal{D}$ est un hyperplan appelé hyperplan normal à $\\mathcal{D}$ et défini par : \n",
    "\n",
    "$$\n",
    "\\mathcal{D}^{\\perp} =  \\left\\{ \\vec{h} \\in \\mathbb{R}^p \\mid (\\vec{h}\\cdot \\vec{a}) = 0 \\right\\}\n",
    "$$\n",
    "\n",
    "\n",
    "Si $x$ est un point arbitraire de $\\mathbb{R}^p$ et si on note $\\vec{x}$ le vecteur associé qui va de $Q$ à ce point, on peut toujours le décomposer de la façon suivante :\n",
    "\n",
    "$$\n",
    "\\vec{x} = \\vec{x}_{\\mathcal{D}} + \\vec{x}_{\\perp}\n",
    "\\text{ avec }\n",
    "\\vec{x}_{\\mathcal{D}} = \\frac{(\\vec{x} \\cdot \\vec{a})}{\\|a\\|^2}\\vec{a}\n",
    "$$\n",
    "\n",
    "Si on note $x_{\\mathcal{D}}$ la projection du point sur la droite $\\mathcal{D}$ et si on note $x_i$ la ième composante du point $x$, on obtient alors les coordonnées du point $x_{\\mathcal{D}}$:\n",
    "\n",
    "$$\n",
    "\\forall i \\in [1;p], x_{\\mathcal{D}_i} =  Q_{i} + \\frac{\\sum_{k=1}^{p} (x_{k} - Q_{k}) * a_{k}}{\\|a\\|^2} * a_{i}\n",
    "$$\n",
    "\n",
    "Pour avoir la distance entre le point $x$ et la droite $\\mathcal{D}$, on a besoin de:\n",
    "\n",
    "$$\n",
    "\\|\\vec{x}_{\\perp} \\| = \\|(x_1 - x_{\\mathcal{D}_1},\\  x_2 - x_{\\mathcal{D}_2}, \\ ..., \\ x_p - x_{\\mathcal{D}_p}) \\|\n",
    "$$\n",
    "\n",
    "Dans la suite de ce document, on choisira de représenter une droite dans $\\mathbb{R}^p$ par un de ses vecteurs directeurs unitaires, noté $\\vec{u}$."
   ]
  },
  {
   "cell_type": "code",
   "execution_count": 119,
   "metadata": {},
   "outputs": [],
   "source": [
    "# Fonction pour la projection orthogonale d'un point sur une droite\n",
    "# x: point à projeter\n",
    "# u: vecteur directeur de la droite\n",
    "# q: point de la droite\n",
    "# retourne la projection orthogonale de x sur la droite\n",
    "def projection_orthogonale(x, u, q):\n",
    "    return np.dot(x - q, u) * u + q\n",
    "\n",
    "# Fonction pour calculer la distance entre un point et sa projection orthogonale sur une droite\n",
    "# x: un point de l'espace\n",
    "# u: vecteur directeur de la droite\n",
    "# q: point de la droite\n",
    "# retourne la distance entre x et sa projection orthogonale sur la droite\n",
    "def distance_projection(x, u, q):\n",
    "    projection = projection_orthogonale(x, u, q)\n",
    "    return np.linalg.norm(x - projection)"
   ]
  },
  {
   "cell_type": "code",
   "execution_count": 120,
   "metadata": {},
   "outputs": [],
   "source": [
    "class Point():\n",
    "    def __init__(self, *coordonnées: float):\n",
    "        self.coordonnées = np.array(coordonnées)\n",
    "\n",
    "    def __repr__(self):\n",
    "        return f\"Point{tuple(self.coordonnées)}\"\n",
    "    \n",
    "    def dim(self):\n",
    "        return len(self.coordonnées)\n",
    "    \n",
    "class Droite():\n",
    "    def __init__(self, point: Point, vecteur: np.array):\n",
    "        if (point.dim() != vecteur.shape[0]):\n",
    "            raise Exception(\"Le vecteur doit avoir la même dimension que le point\")\n",
    "        self.point = point\n",
    "        self.vecteur = vecteur/np.linalg.norm(vecteur)\n",
    "\n",
    "    def __repr__(self):\n",
    "        return f\"Droite(Passe par le point {self.point}, vecteur directeur {self.vecteur})\"\n",
    "\n",
    "    def projection_orthogonale(self, point: Point):\n",
    "        if (point.dim() != self.vecteur.shape[0]):\n",
    "            raise Exception(\"Le point doit avoir la même dimension que le vecteur directeur\")\n",
    "        return projection_orthogonale(point.coordonnées, self.vecteur, self.point.coordonnées)\n",
    "\n",
    "    def distance_projection(self, point: Point):\n",
    "        if (point.dim() != self.vecteur.shape[0]):\n",
    "            raise Exception(\"Le point doit avoir la même dimension que le vecteur directeur\")\n",
    "        return distance_projection(point.coordonnées, self.vecteur, self.point.coordonnées)\n",
    "    "
   ]
  },
  {
   "cell_type": "code",
   "execution_count": 121,
   "metadata": {},
   "outputs": [],
   "source": [
    "# Fonction pour afficher la projection orthogonale d'un point sur une droite\n",
    "# x: point à projeter\n",
    "# u: vecteur directeur de la droite\n",
    "# q: point de la droite\n",
    "def plot_projection_distance(x: Point, D: Droite):\n",
    "    # Calculer la projection orthogonale\n",
    "    projection = D.projection_orthogonale(x)\n",
    "    \n",
    "    # Créer un vecteur pour représenter la droite\n",
    "    t = np.linspace(0, 5, 100)\n",
    "    line = np.outer(t, D.vecteur) + D.point.coordonnées\n",
    "    \n",
    "    # Créer le graphique\n",
    "    plt.figure(figsize=(8, 8))\n",
    "    \n",
    "    # Tracer la droite\n",
    "    plt.plot(line[:, 0], line[:, 1], label='Droite D')\n",
    "    \n",
    "    # Tracer le point x\n",
    "    plt.scatter(x.coordonnées[0], x.coordonnées[1], color='red', label='Point x')\n",
    "    \n",
    "    # Tracer la projection orthogonale\n",
    "    plt.scatter(projection[0], projection[1], color='green', label='Projection orthogonale')\n",
    "    \n",
    "    # Tracer la ligne de distance\n",
    "    plt.plot([x.coordonnées[0], projection[0]], [x.coordonnées[1], projection[1]], linestyle='--', color='blue', label='Distance')\n",
    "    \n",
    "    # Ajouter des étiquettes et une légende\n",
    "    plt.text(x.coordonnées[0] + 0.2, x.coordonnées[1] + 0.2, 'point x', color='red')\n",
    "    plt.text(projection[0] + 0.2, projection[1] - 0.2, 'Projection', color='green')\n",
    "    \n",
    "    plt.xlabel('X')\n",
    "    plt.ylabel('Y')\n",
    "    plt.axhline(0, color='black',linewidth=0.5)\n",
    "    plt.axvline(0, color='black',linewidth=0.5)\n",
    "    plt.grid(color = 'gray', linestyle = '--', linewidth = 0.5)\n",
    "    plt.legend()\n",
    "    plt.axis('equal')\n",
    "    plt.title('Projection orthogonale et distance entre un point et une droite')\n",
    "    \n",
    "    # Afficher le graphique\n",
    "    plt.show()\n",
    "\n",
    "#nbconvert"
   ]
  },
  {
   "cell_type": "code",
   "execution_count": 122,
   "metadata": {},
   "outputs": [
    {
     "name": "stdout",
     "output_type": "stream",
     "text": [
      "Coordonnées de la projection orthogonale: [0.27941176 0.13235294]\n",
      "Distance entre le point et la droite: 3.3442224102789226\n"
     ]
    },
    {
     "data": {
      "image/png": "[encoded data removed]",
      "text/plain": [
       "<Figure size 800x800 with 1 Axes>"
      ]
     },
     "metadata": {},
     "output_type": "display_data"
    }
   ],
   "source": [
    "x = Point(2, 3)\n",
    "D = Droite(Point(0.5, 0), np.array([-2.5, 1.5]))\n",
    "\n",
    "\n",
    "# Calculer la projection orthogonale\n",
    "projection = D.projection_orthogonale(x)\n",
    "print(\"Coordonnées de la projection orthogonale:\", projection)\n",
    "\n",
    "# Calculer la distance entre le point et la droite\n",
    "distance = D.distance_projection(x)\n",
    "print(\"Distance entre le point et la droite:\", distance)\n",
    "plot_projection_distance(x, D)"
   ]
  },
  {
   "cell_type": "code",
   "execution_count": 123,
   "metadata": {},
   "outputs": [
    {
     "data": {
      "text/plain": [
       "(Droite(Passe par le point Point(0, 0), vecteur directeur [0.70710678 0.70710678]),\n",
       " 'Indice de la liste: 1')"
      ]
     },
     "execution_count": 123,
     "metadata": {},
     "output_type": "execute_result"
    }
   ],
   "source": [
    "# Fonction pour calculer la droite la plus proche d'un point\n",
    "# x: un point de l'espace\n",
    "# droites: un tableau de droites\n",
    "# retourne le vecteur directeur de la droite la plus proche de x\n",
    "def droite_plus_proche(x, droites):\n",
    "    distances = [d.distance_projection(x) for d in droites]\n",
    "    \n",
    "    # Trouver l'indice de la droite la plus proche\n",
    "    indice_plus_proche = np.argmin(distances)\n",
    "    \n",
    "    # Vérifier s'il y a des égalités de distance\n",
    "    indices_egalite = np.where(distances == distances[indice_plus_proche])[0]\n",
    "    \n",
    "    # S'il y a des égalités, choisir aléatoirement parmi les droites équidistantes\n",
    "    if len(indices_egalite) > 1:\n",
    "        indice_plus_proche = np.random.choice(indices_egalite)\n",
    "    \n",
    "    return droites[indice_plus_proche], \"Indice de la liste: {}\".format(indice_plus_proche)\n",
    "\n",
    "\n",
    "droite_plus_proche(x, [D, Droite(Point(0, 0), np.array([1, 1]))])"
   ]
  },
  {
   "cell_type": "markdown",
   "metadata": {},
   "source": [
    "## EM Algorithm (2023)\n",
    "\n",
    "On applique l'algorithme EM sur une mixture unidimensionnelle de 2 Gaussiennes, avec pour moyennes, variances et proportions respectives:  $\\mu_1 = 0$, $\\mu_2 = 4$, $\\sigma_1 = 1$, $\\sigma_2 = 1/2$ ...\n",
    "\n",
    "On note $D(x, \\mu, \\sigma)$ la distribution.\n",
    "\n",
    "### Initialisation of the EM algorithm\n",
    "\n",
    "Arbitrairement, on pose 0, 0, 1, 1, 0,5.\n",
    "Soient $X = (x_1, x_2, ..., x_n)$ un échantillon des distributions mentionnées. On considère $\\forall i \\in [1, n], \\forall k \\in [1, 2], z_{ik}$ la variable latente binaire associé à la composante $x_i$ et qui indique si $x_i$ provient de la distribution $k$.\n",
    "$\\forall i \\in [1, n], \\forall k \\in [1, 2], t_{ik} = \\mathbb{P}(z_{ik} = 1 | X_i = x_i) $\n",
    "\n",
    "On note l'indice ($q$), qui indique la $q^{ème}$ de l'itération.\n",
    "\n",
    "## E-step\n",
    "\n",
    "On a $\\forall i \\in [1, n], t_{i, 1}^{(0)} = \\frac{\\pi_1^{(0)} * D(x_i, \\mu_1, \\sigma_1)}{\\pi_1^{(0)} * D(x_i, \\mu_1, \\sigma_1) + (1 - \\pi_1^{(0)}) * D(x_i, \\mu_2, \\sigma_2)} $\n"
   ]
  },
  {
   "cell_type": "code",
   "execution_count": 124,
   "metadata": {},
   "outputs": [],
   "source": [
    "class Gaussian():\n",
    "    def __init__(self, mu, sigma2):\n",
    "        self.mu = mu\n",
    "        self.sigma2 = sigma2\n",
    "\n",
    "    def __repr__(self):\n",
    "        return f\"Gaussian(µ={self.mu}, σ²={self.sigma2})\"\n",
    "\n",
    "    def pdf(self, x):\n",
    "        return (1 / (self.sigma2 * np.sqrt(2 * np.pi))) * np.exp(-0.5 * ((x - self.mu) / self.sigma2) ** 2)\n",
    "\n",
    "    def plot_pdf(self, x_min, x_max):\n",
    "        x = np.linspace(x_min, x_max, 100)\n",
    "        y = self.pdf(x)\n",
    "        plt.plot(x, y, label=self.__repr__())\n",
    "        plt.grid()\n",
    "        plt.legend()"
   ]
  },
  {
   "cell_type": "code",
   "execution_count": 125,
   "metadata": {},
   "outputs": [],
   "source": [
    "import numpy as np\n",
    "import matplotlib.pyplot as plt\n",
    "import random"
   ]
  },
  {
   "cell_type": "code",
   "execution_count": 126,
   "metadata": {},
   "outputs": [],
   "source": [
    "mu1 = 0\n",
    "mu2 = 4\n",
    "sigma1 = 1\n",
    "sigma2 = 1/2\n",
    "pi1 = 1/3\n",
    "n = 1000\n",
    "\n",
    "Z = np.zeros(n)\n",
    "mixture = np.zeros(n)\n",
    "\n",
    "for k in range(0, n):\n",
    "    tmp = np.random.choice([1, 2], p=[pi1, 1 - pi1])\n",
    "    Z[k] = tmp\n",
    "    if tmp == 1:\n",
    "        mixture[k] = np.random.normal(mu1, sigma1)\n",
    "    else:\n",
    "        mixture[k] = np.random.normal(mu2, sigma2)"
   ]
  },
  {
   "cell_type": "code",
   "execution_count": 127,
   "metadata": {},
   "outputs": [
    {
     "data": {
      "image/png": "[encoded data removed]",
      "text/plain": [
       "<Figure size 640x480 with 1 Axes>"
      ]
     },
     "metadata": {},
     "output_type": "display_data"
    }
   ],
   "source": [
    "plt.grid()\n",
    "plt.hist(mixture, bins=40, density=True)\n",
    "plt.show()\n"
   ]
  },
  {
   "cell_type": "markdown",
   "metadata": {},
   "source": [
    "# Initialisation"
   ]
  },
  {
   "cell_type": "code",
   "execution_count": 117,
   "metadata": {},
   "outputs": [
    {
     "ename": "NameError",
     "evalue": "name 'random' is not defined",
     "output_type": "error",
     "traceback": [
      "\u001b[1;31m---------------------------------------------------------------------------\u001b[0m",
      "\u001b[1;31mNameError\u001b[0m                                 Traceback (most recent call last)",
      "Cell \u001b[1;32mIn[117], line 3\u001b[0m\n\u001b[0;32m      1\u001b[0m n \u001b[38;5;241m=\u001b[39m \u001b[38;5;241m1000\u001b[39m\n\u001b[1;32m----> 3\u001b[0m mu1_list \u001b[38;5;241m=\u001b[39m np\u001b[38;5;241m.\u001b[39marray([mixture[\u001b[43mrandom\u001b[49m\u001b[38;5;241m.\u001b[39mrandint(\u001b[38;5;241m0\u001b[39m, n \u001b[38;5;241m-\u001b[39m \u001b[38;5;241m1\u001b[39m)]])\n\u001b[0;32m      4\u001b[0m mu2_list \u001b[38;5;241m=\u001b[39m np\u001b[38;5;241m.\u001b[39marray([mixture[random\u001b[38;5;241m.\u001b[39mrandint(\u001b[38;5;241m0\u001b[39m, n \u001b[38;5;241m-\u001b[39m \u001b[38;5;241m1\u001b[39m)]])\n\u001b[0;32m      5\u001b[0m sigma1_list \u001b[38;5;241m=\u001b[39m np\u001b[38;5;241m.\u001b[39marray([\u001b[38;5;241m1\u001b[39m])\n",
      "\u001b[1;31mNameError\u001b[0m: name 'random' is not defined"
     ]
    }
   ],
   "source": [
    "n = 1000\n",
    "\n",
    "mu1_list = np.array([mixture[random.randint(0, n - 1)]])\n",
    "mu2_list = np.array([mixture[random.randint(0, n - 1)]])\n",
    "sigma1_list = np.array([1])\n",
    "sigma2_list = np.array([1])\n",
    "pi1_list = np.array([0.5])\n",
    "ti1_list = np.array([0] * n)\n",
    "Q = np.array([])\n",
    "\n",
    "criteria = 10**(-6)"
   ]
  },
  {
   "cell_type": "markdown",
   "metadata": {},
   "source": [
    "# E Step"
   ]
  },
  {
   "cell_type": "code",
   "execution_count": 114,
   "metadata": {},
   "outputs": [],
   "source": [
    "def Gaussian(x, mu, sigma):\n",
    "    return (1 / (sigma * np.sqrt(2 * np.pi))) * np.exp(-0.5 * ((x - mu) / sigma) ** 2)\n",
    "\n",
    "def EM(mu1_list, mu2_list, sigma1_list, sigma2_list, pi1_list, Q, mixture):\n",
    "    \n",
    "    # E-step\n",
    "    tmp = Gaussian(mixture, mu1_list[-1], sigma1_list[-1])\n",
    "    ti1_list = pi1_list[-1] * tmp / (pi1_list[-1] * tmp + (1 - pi1_list[-1]) * Gaussian(mixture, mu2_list[-1], sigma2_list[-1]))\n",
    "    gauss1 = Gaussian(mixture, mu1_list[-1], sigma1_list[-1])\n",
    "    gauss2 = Gaussian(mixture, mu2_list[-1], sigma2_list[-1])\n",
    "    Q = np.append(Q, np.sum( ti1_list * np.log(pi1_list[-1] * gauss1) + (1 - ti1_list) * np.log((1 - pi1_list[-1]) * gauss2)))\n",
    "    \n",
    "    # M-step\n",
    "    if (len(Q) == 1 or (np.linalg.norm(np.array([mu1_list[-1], mu2_list[-1], sigma1_list[-1], sigma2_list[-1], pi1_list[-1]]) - np.array([mu1_list[-2], mu2_list[-2], sigma1_list[-2], sigma2_list[-2], pi1_list[-2]])) ** 2 / np.linalg.norm(np.array([mu1_list[-2], mu2_list[-2], sigma1_list[-2], sigma2_list[-2], pi1_list[-2]])) ** 2) > criteria):\n",
    "        mu1_list = np.append(mu1_list, np.sum(ti1_list * mixture) / np.sum(ti1_list))\n",
    "        mu2_list = np.append(mu2_list, np.sum((1 - ti1_list) * mixture) / np.sum(1 - ti1_list))\n",
    "        sigma1_list = np.append(sigma1_list, np.sqrt(np.sum(ti1_list * (mixture - mu1_list[-1]) ** 2) / np.sum(ti1_list)))\n",
    "        sigma2_list = np.append(sigma2_list, np.sqrt(np.sum((1 - ti1_list) * (mixture - mu2_list[-1]) ** 2) / np.sum(1 - ti1_list)))\n",
    "        pi1_list = np.append(pi1_list, np.sum(ti1_list) / n)\n",
    "        return EM(mu1_list, mu2_list, sigma1_list, sigma2_list, pi1_list, Q, mixture)\n",
    "    else:\n",
    "        return mu1_list[-1], mu2_list[-1], sigma1_list[-1], sigma2_list[-1], pi1_list[-1]\n",
    "        "
   ]
  },
  {
   "cell_type": "code",
   "execution_count": 115,
   "metadata": {},
   "outputs": [
    {
     "name": "stdout",
     "output_type": "stream",
     "text": [
      "Il y a convergence: mu1 = 0.06355344033054978, mu2 = 3.9549226833441247, sigma1 = 0.917350118902134, sigma2 = 0.4997629120640752, pi1 = 0.3281882544925496\n"
     ]
    }
   ],
   "source": [
    "em = EM(mu1_list, mu2_list, sigma1_list, sigma2_list, pi1_list, Q, mixture)\n",
    "print(\"Il y a convergence: mu1 = {}, mu2 = {}, sigma1 = {}, sigma2 = {}, pi1 = {}\".format(em[0], em[1], em[2], em[3], em[4]))"
   ]
  }
 ],
 "metadata": {
  "kernelspec": {
   "display_name": "Python 3 (ipykernel)",
   "language": "python",
   "name": "python3"
  },
  "language_info": {
   "codemirror_mode": {
    "name": "ipython",
    "version": 3
   },
   "file_extension": ".py",
   "mimetype": "text/x-python",
   "name": "python",
   "nbconvert_exporter": "python",
   "pygments_lexer": "ipython3",
   "version": "3.10.6"
  }
 },
 "nbformat": 4,
 "nbformat_minor": 4
}
