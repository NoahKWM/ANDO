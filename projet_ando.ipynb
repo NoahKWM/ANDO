{
 "cells": [
  {
   "cell_type": "markdown",
   "metadata": {},
   "source": [
    "## EM Algorithm (2023)\n",
    "\n",
    "On souhaite appliquer l'algorithme EM sur une mixture unidimensionnelle de 2 Gaussiennes, avec pour moyennes, variances et proportions respectives:  $\\mu_1 = 0$, $\\mu_2 = 4$, $\\sigma^2_1 = 1$, $\\sigma^2_2 = \\frac{1}{2}$ et $\\pi_1 = \\frac{1}{3}$\n",
    "\n",
    "On note N la taille de la mixture et $X = (x_1, x_2, ..., x_N)$ un échantillon de la mixture.\n",
    "\n",
    "Pour cela, nous allons d'abord implémenter un algorithme EM générique gaussien avec un nombre $K$ inconnu de distributions gaussiennes ($K \\le N$) puis l'appliquer à notre cas particulier.\n",
    "\n",
    "On note $N(x; \\mu, \\sigma^2)$ la distribution gaussienne et $\\Theta^{(q)} = (\\mu_1^{(q)}, ... ,\\mu_K^{(q)}, (\\sigma^2_1)^{(q)}, ...,  (\\sigma^2_K)^{(q)}, \\pi_1^{(q)}, ..., \\pi_K^{(q)})$ les paramètres calculés à la $(q)$ ème itération, où $\\forall (q), \\sum_{k=1}^{K} \\pi_k^{(q)} = 1$.\n",
    "\n",
    "La mixture est donc sous la forme:\n",
    "$$\n",
    "\\sum_{j = 1}^{j = K} \\pi_j^{(q)} * N(x_i, \\mu_j^{(q)}, (\\sigma^2_j)^{(q)})\n",
    "$$\n"
   ]
  },
  {
   "cell_type": "markdown",
   "metadata": {},
   "source": [
    "## Initialisation de l'algorithme EM\n",
    "\n",
    "Arbitrairement, on pose des valeurs initiales pour $\\Theta^{(0)}$ tels que:\n",
    "- $\\forall k \\in \\{1, ..., K\\}, \\mu_k^{(0)}$ vaut un élément de $X$ choisi aléatoirement selon une loi uniforme ($\\mu_k^{(0)} = x_i \\ où \\ i$ ~ $U(\\{1, ..., N\\})$),\n",
    "- $\\forall k \\in \\{1, ..., K\\}, (\\sigma^{2}_k)^{(0)} = 1$,\n",
    "- $\\forall k \\in \\{1, ..., K\\}, \\pi_k^{(0)} = \\frac{1}{K}$.\n",
    "\n",
    "\n",
    "Dans la suite, on considèrera: \n",
    "- $\\forall i \\in \\{1, ..., N\\}, \\forall k \\in \\{1, ..., K\\}, z_{i,k}$, la variable latente binaire associé à la composante $x_i$ et qui indique si $x_i$ provient de la distribution $k$.\n",
    "- $\\forall i \\in \\{1, ..., N\\}, \\forall k \\in \\{1, ..., K\\}, t_{i,k} = \\mathbb{P}(z_{i,k} = 1 | X_i = x_i)$, la probabilité conditionnelle que $z_{i,k} = 1$ sachant $x_i$.\n",
    "\n",
    "On note l'indice ($q$), qui indique la $q^{ème}$ de l'itération.\n",
    "\n",
    "Nous devons également définir un critère de convergence, nous allons itérer l'algorithme tant que :\n",
    "$$\n",
    "\\frac{\\|\\Theta^{(q)} - \\Theta^{(q+1)}\\|_2}{\\|\\Theta^{(q)}\\|_2^2} \\le \\epsilon\n",
    "$$\n",
    "et on se fixera $\\epsilon = 10^{-6}$"
   ]
  },
  {
   "cell_type": "code",
   "execution_count": 210,
   "metadata": {},
   "outputs": [],
   "source": [
    "##==============================================================================\n",
    "# Imports\n",
    "##==============================================================================\n",
    "import numpy as np\n",
    "import matplotlib.pyplot as plt\n",
    "import random"
   ]
  },
  {
   "cell_type": "code",
   "execution_count": 211,
   "metadata": {},
   "outputs": [],
   "source": [
    "##==============================================================================\n",
    "# Class Gaussian\n",
    "#\n",
    "# Cette classe permet de créer une distribution gaussienne à partir de sa moyenne et de sa variance\n",
    "##==============================================================================\n",
    "class Gaussian():\n",
    "    def __init__(self, mu, sigma2):\n",
    "        self.mu = mu\n",
    "        self.sigma2 = sigma2\n",
    "\n",
    "    def __repr__(self):\n",
    "        return f\"Gaussian(µ={self.mu}, σ²={self.sigma2})\"\n",
    "\n",
    "    # Probability Density Function\n",
    "    def pdf(self, x):\n",
    "        return (1 / (self.sigma2 * np.sqrt(2 * np.pi))) * np.exp(-0.5 * ((x - self.mu) / self.sigma2) ** 2)\n",
    "\n",
    "    def plot_pdf(self, x_min, x_max):\n",
    "        x = np.linspace(x_min, x_max, 100)\n",
    "        y = self.pdf(x)\n",
    "        plt.plot(x, y, label=self.__repr__())\n",
    "        plt.grid()\n",
    "        plt.legend()"
   ]
  },
  {
   "cell_type": "markdown",
   "metadata": {},
   "source": [
    "## E-step\n",
    "\n",
    "On a:\n",
    "$$\n",
    "\\forall i \\in \\{1, ..., N\\}, \\forall k \\in \\{1, ..., K\\}, \\forall (q), t_{i, k}^{(q)} = \\frac{\\pi_k^{(q)} * N(x_i, \\mu_k^{(q)}, (\\sigma^2_k)^{(q)})}{\\sum_{j = 1}^{j = K} \\pi_j^{(q)} * N(x_i, \\mu_j^{(q)}, (\\sigma^2_j)^{(q)})}\n",
    "$$\n",
    "\n",
    "*Justification: On utilise la formule de Bayes.*\n",
    "\n",
    "On calcule ensuite l'expression $Q(\\Theta, \\Theta^{(q)}) = \\mathbb{E}_{Z|X, \\Theta^{(q)}}[log(P(X, Z; \\Theta))]$, où $log(P(X, Z; \\Theta))$ est la log-vraisemblance de la mixture.\n",
    "\n",
    "Dans le cas de distributions gaussiens, on a: $Q(\\Theta, \\Theta^{(q)}) = \\mathbb{E}_{Z|X, \\Theta^{(q)}} [log(\\prod_{i = 1}^{i = N} \\sum_{k = 1}^{k = K} \\pi_k^{(q)} * N(x_i, \\mu_k^{(q)}, (\\sigma^2_k)^{(q)}))] \\\\$\n",
    "$= \\mathbb{E}_{Z|X, \\Theta^{(q)}} [log(\\prod_{i = 1}^{i = N} \\prod_{k = 1}^{k = K} (\\pi_k^{(q)} * N(x_i, \\mu_k^{(q)}, (\\sigma^2_k)^{(q)}))^{\\mathbf{1[z_{i,k} = 1]}})]$\n",
    "$$= \\sum_{i = 1}^{i = N} \\sum_{k = 1}^{k = K} \\mathbb{E}_{Z|X, \\Theta^{(q)}} [\\mathbb{1[z_{i,k} = 1]}] (log(\\pi_k^{(q)}) + log(\\frac{1}{\\sqrt{2\\pi}(\\sigma^2_k)^{(q)}}) + \\frac{(- (x_i - \\mu_k^{(q)})^2)}{2((\\sigma^2_k)^{(q)})^2})\n",
    "$$\n",
    "$$= \\sum_{i = 1}^{i = N} \\sum_{k = 1}^{k = K} t_{i,k}^{(q)} (log(\\pi_k^{(q)}) + log(\\frac{1}{\\sqrt{2\\pi}(\\sigma^2_k)^{(q)}}) + \\frac{(- (x_i - \\mu_k^{(q)})^2)}{2((\\sigma^2_k)^{(q)})^2})\n",
    "$$"
   ]
  },
  {
   "cell_type": "code",
   "execution_count": 212,
   "metadata": {},
   "outputs": [],
   "source": [
    "##==============================================================================\n",
    "## Fonction E_step\n",
    "##\n",
    "## Paramètres :\n",
    "##      mu : liste des moyennes à l'itération (q)  (taille K)\n",
    "##      sigma : liste des variances à l'itération (q)  (taille K)\n",
    "##      pi : liste des poids à l'itération (q)  (taille K)\n",
    "##      mixture : liste des données  (taille N)\n",
    "##\n",
    "## Retour :\n",
    "##      Q : valeur de l'expression Q à l'itération courante\n",
    "##      tik_list : liste des tik à l'itération courante (taille K x N)\n",
    "##==============================================================================\n",
    "def E_step(mu:list, sigma:list, pi:list, mixture):\n",
    "    gaussian_list = []\n",
    "    tik_list = np.zeros((len(mu), len(mixture)))\n",
    "    Q = 0\n",
    "    for k in range(len(mu)):\n",
    "        gaussian_list.append(Gaussian(mu[k], sigma[k]).pdf(mixture))\n",
    "        tik_list[k] = pi[k] * gaussian_list[k]  # Numérateur de tik\n",
    "\n",
    "    # Division par le dénominateur de tik\n",
    "    tik_list /= np.sum(tik_list, axis=0)\n",
    "\n",
    "    # Calcul de la fonction Q\n",
    "    Q = np.sum(tik_list * np.log(np.array([pi[k] * gaussian_list[k] for k in range(len(mu))])))\n",
    "\n",
    "    return [Q, tik_list]"
   ]
  },
  {
   "cell_type": "markdown",
   "metadata": {},
   "source": [
    "## M-step\n",
    "\n",
    "On cherche à maximiser $Q(\\Theta, \\Theta^{(q)})$ par rapport à $\\Theta$.\n",
    "On aura alors $\\Theta^{(q+1)} = argmax_{\\Theta} Q(\\Theta, \\Theta^{(q)})$.\n",
    "\n",
    "Une méthode que l'on peut utiliser est l'annulation de la dérivée de $Q(\\Theta, \\Theta^{(q)})$ par rapport à $\\Theta$, et la méthode du Lagrangien lorsque cela est nécessaire. On cherche ici à annuler les dérivées partielles de $Q(\\Theta, \\Theta^{(q)})$ par rapport à $\\mu_k$ et $\\sigma_k$, et on utilise le Lagrangien pour $\\pi_k$.\n",
    "\n",
    "Pour une distribution gaussienne, on peut démontrer que:\n",
    "\n",
    "$\\forall k \\in \\{1, ..., K\\}, \\frac{\\partial Q(\\Theta, \\Theta^{(q)})}{\\partial \\mu_k} = \\sum_{i = 1}^{i = N} t_{i,k}^{(q)} (x_i - \\mu_k^{(q)}) = 0$\n",
    "$$\n",
    "\\forall k \\in \\{1, ..., K\\}, \\mu_k^{(q+1)} = \\frac{\\sum_{i = 1}^{i = N} t_{i,k}^{(q)} x_i}{\\sum_{i = 1}^{i = N} t_{i,k}^{(q)}}\n",
    "$$\n",
    "$\\forall k \\in \\{1, ..., K\\}, \\frac{\\partial Q(\\Theta, \\Theta^{(q)})}{\\partial \\sigma^2_k} = \\sum_{i = 1}^{i = N} t_{i,k}^{(q)} (\\frac{1}{\\sigma_k^{(q)}} - \\frac{(x_i - \\mu_k^{(q)})^2}{((\\sigma^2_k)^{(q)})^2}) = 0$\n",
    "$$\n",
    "\\forall k \\in \\{1, ..., K\\}, (\\sigma^2_k)^{(q+1)} = \\frac{\\sum_{i = 1}^{i = N} t_{i,k}^{(q)} (x_i - \\mu_k^{(q+1)})^2}{\\sum_{i = 1}^{i = N} t_{i,k}^{(q)}}\n",
    "$$\n",
    "$\\forall k \\in \\{1, ..., K\\}, \\frac{\\partial Q(\\Theta, \\Theta^{(q)})}{\\partial \\pi_k} = \\sum_{i = 1}^{i = N} t_{i,k}^{(q)} \\frac{1}{\\pi_k} - N = 0$\n",
    "$$\n",
    "\\forall k \\in \\{1, ..., K\\}, \\pi_k^{(q+1)} = \\frac{\\sum_{i = 1}^{i = N} t_{i,k}^{(q)}}{N}\n",
    "$$\n",
    "\n",
    "On obtient alors les formules de mise à jour des paramètres de l'algorithme EM."
   ]
  },
  {
   "cell_type": "code",
   "execution_count": 213,
   "metadata": {},
   "outputs": [],
   "source": [
    "##==============================================================================\n",
    "## Fonction M_step\n",
    "##\n",
    "## Paramètres :\n",
    "##      tik_list : liste des tik à l'itération courante (taille K x N)\n",
    "##      mixture : liste des données  (taille N)\n",
    "##\n",
    "## Retour :\n",
    "##      mu : liste des moyennes à l'itération (q+1)  (taille K)\n",
    "##      sigma : liste des variances à l'itération (q+1)  (taille K)\n",
    "##      pi : liste des poids à l'itération (q+1)  (taille K)\n",
    "##==============================================================================\n",
    "def M_step(tik_list, mixture):\n",
    "    n = len(mixture)\n",
    "    mu = []\n",
    "    sigma = []\n",
    "    pi = []\n",
    "\n",
    "    for k in range(np.shape(tik_list)[0]):\n",
    "        mu.append(np.sum(tik_list[k] * mixture) / np.sum(tik_list[k]))\n",
    "        sigma.append(np.sum(tik_list[k] * (mixture - mu[k]) ** 2) / np.sum(tik_list[k]))\n",
    "        pi.append(np.sum(tik_list[k]) / n)\n",
    "    \n",
    "    return [mu, sigma, pi]\n",
    "\n"
   ]
  },
  {
   "cell_type": "code",
   "execution_count": 214,
   "metadata": {},
   "outputs": [],
   "source": [
    "mu1 = 0\n",
    "mu2 = 4\n",
    "sigma1 = 1\n",
    "sigma2 = 1/2\n",
    "pi1 = 1/3\n",
    "n = 1000\n",
    "\n",
    "Z = np.zeros(n)\n",
    "mixture = np.zeros(n)\n",
    "\n",
    "for k in range(0, n):\n",
    "    tmp = np.random.choice([1, 2], p=[pi1, 1 - pi1])\n",
    "    Z[k] = tmp\n",
    "    if tmp == 1:\n",
    "        mixture[k] = np.random.normal(mu1, sigma1)\n",
    "    else:\n",
    "        mixture[k] = np.random.normal(mu2, sigma2)"
   ]
  },
  {
   "cell_type": "code",
   "execution_count": 215,
   "metadata": {},
   "outputs": [
    {
     "data": {
      "image/png": "[encoded data removed]",
      "text/plain": [
       "<Figure size 640x480 with 1 Axes>"
      ]
     },
     "metadata": {},
     "output_type": "display_data"
    }
   ],
   "source": [
    "plt.grid()\n",
    "plt.hist(mixture, bins=40, density=True)\n",
    "plt.show()\n"
   ]
  },
  {
   "cell_type": "markdown",
   "metadata": {},
   "source": [
    "# Initialisation"
   ]
  },
  {
   "cell_type": "code",
   "execution_count": 216,
   "metadata": {},
   "outputs": [],
   "source": [
    "n = 1000\n",
    "\n",
    "mu1_list = np.array([mixture[random.randint(0, n - 1)]])\n",
    "mu2_list = np.array([mixture[random.randint(0, n - 1)]])\n",
    "sigma1_list = np.array([1])\n",
    "sigma2_list = np.array([1])\n",
    "pi1_list = np.array([0.4])\n",
    "ti1_list = np.array([0] * n)\n",
    "Q = np.array([])\n",
    "\n",
    "criteria = 10**(-6)"
   ]
  },
  {
   "cell_type": "markdown",
   "metadata": {},
   "source": [
    "# E Step"
   ]
  },
  {
   "cell_type": "code",
   "execution_count": 217,
   "metadata": {},
   "outputs": [],
   "source": [
    "def EM(mu1_list, mu2_list, sigma1_list, sigma2_list, pi1_list, Q, mixture):\n",
    "    \n",
    "    E = E_step([mu1_list[-1], mu2_list[-1]], [sigma1_list[-1], sigma2_list[-1]], [pi1_list[-1], 1 - pi1_list[-1]], mixture)\n",
    "    Q = np.append(Q, E[0])\n",
    "    ti1_list = E[1][0]\n",
    "    tik_list = E[1]\n",
    "    \n",
    "    # M-step\n",
    "    if (len(Q) == 1 or (np.linalg.norm(np.array([mu1_list[-1], mu2_list[-1], sigma1_list[-1], sigma2_list[-1], pi1_list[-1]]) - np.array([mu1_list[-2], mu2_list[-2], sigma1_list[-2], sigma2_list[-2], pi1_list[-2]])) ** 2 / np.linalg.norm(np.array([mu1_list[-2], mu2_list[-2], sigma1_list[-2], sigma2_list[-2], pi1_list[-2]])) ** 2) > criteria):\n",
    "        M = M_step(tik_list, mixture)\n",
    "        # A FAIRE\n",
    "        print(\"M-step: \", M)\n",
    "        return EM(mu1_list, mu2_list, sigma1_list, sigma2_list, pi1_list, Q, mixture)\n",
    "    else:\n",
    "        return mu1_list[-1], mu2_list[-1], sigma1_list[-1], sigma2_list[-1], pi1_list[-1]\n",
    "        "
   ]
  },
  {
   "cell_type": "code",
   "execution_count": 218,
   "metadata": {},
   "outputs": [
    {
     "name": "stdout",
     "output_type": "stream",
     "text": [
      "M-step:  [[-0.11022749988006522, 3.983035670235003], [1.0381681182514582, 0.3222367607761987], [0.3225567221547179, 0.6774432778452821]]\n",
      "M-step:  [[0.02953311483423865, 4.0329877451354434], [1.3133100803029538, 0.23817162678563442], [0.3422698025845473, 0.6577301974154526]]\n",
      "M-step:  [[0.5170371064220163, 4.070727501912447], [2.738170837706861, 0.17937220615931548], [0.3962082303323658, 0.6037917696676341]]\n",
      "M-step:  [[1.6072774455326568, 4.0650437607224195], [4.7309049999731165, 0.08139789541219311], [0.5705658967207751, 0.429434103279225]]\n",
      "M-step:  [[2.274997960056522, 4.063244063506063], [4.682781196627211, 0.017725420027582657], [0.7831796426892219, 0.21682035731077798]]\n",
      "M-step:  [[2.584229802797824, 4.064816842331884], [4.333989092027998, 0.0009342049869880089], [0.9469829775134755, 0.05301702248652453]]\n",
      "M-step:  [[2.657386162899406, 4.064355924364973], [4.222865020383741, 2.609731187117265e-06], [0.996204640346293, 0.003795359653706921]]\n",
      "M-step:  [[2.6627261191660576, nan], [4.214322380628992, nan], [1.0, 0.0]]\n",
      "Il y a convergence: mu1 = 2.6627261191660576, mu2 = nan, sigma1 = 4.214322380628992, sigma2 = nan, pi1 = 1.0\n"
     ]
    },
    {
     "name": "stderr",
     "output_type": "stream",
     "text": [
      "/tmp/ipykernel_4014/3984518813.py:26: RuntimeWarning: divide by zero encountered in log\n",
      "  Q = np.sum(tik_list * np.log(np.array([pi[k] * gaussian_list[k] for k in range(len(mu))])))\n",
      "/tmp/ipykernel_4014/3984518813.py:26: RuntimeWarning: invalid value encountered in multiply\n",
      "  Q = np.sum(tik_list * np.log(np.array([pi[k] * gaussian_list[k] for k in range(len(mu))])))\n",
      "/tmp/ipykernel_4014/1975115254.py:20: RuntimeWarning: invalid value encountered in scalar divide\n",
      "  mu.append(np.sum(tik_list[k] * mixture) / np.sum(tik_list[k]))\n"
     ]
    }
   ],
   "source": [
    "em = EM(mu1_list, mu2_list, sigma1_list, sigma2_list, pi1_list, Q, mixture)\n",
    "print(\"Il y a convergence: mu1 = {}, mu2 = {}, sigma1 = {}, sigma2 = {}, pi1 = {}\".format(em[0], em[1], em[2], em[3], em[4]))"
   ]
  }
 ],
 "metadata": {
  "kernelspec": {
   "display_name": "Python 3 (ipykernel)",
   "language": "python",
   "name": "python3"
  },
  "language_info": {
   "codemirror_mode": {
    "name": "ipython",
    "version": 3
   },
   "file_extension": ".py",
   "mimetype": "text/x-python",
   "name": "python",
   "nbconvert_exporter": "python",
   "pygments_lexer": "ipython3",
   "version": "3.11.2"
  }
 },
 "nbformat": 4,
 "nbformat_minor": 4
}
