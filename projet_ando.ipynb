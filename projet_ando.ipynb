{
 "cells": [
  {
   "cell_type": "markdown",
   "metadata": {},
   "source": [
    "## EM Algorithm (2023)\n",
    "\n",
    "On souhaite appliquer l'algorithme EM sur une mixture unidimensionnelle de 2 Gaussiennes, avec pour moyennes, variances et proportions respectives:  $\\mu_1 = 0$, $\\mu_2 = 4$, $\\sigma^2_1 = 1$, $\\sigma^2_2 = \\frac{1}{2}$ et $\\pi_1 = \\frac{1}{3}$\n",
    "\n",
    "On note N la taille de la mixture et $X = (x_1, x_2, ..., x_N)$ un échantillon de la mixture.\n",
    "\n",
    "Pour cela, nous allons d'abord implémenter un algorithme EM générique gaussien avec un nombre $K$ inconnu de distributions gaussiennes ($K \\le N$) puis l'appliquer à notre cas particulier.\n",
    "\n",
    "On note $N(x; \\mu, \\sigma^2)$ la distribution gaussienne et $\\Theta^{(q)} = (\\mu_1^{(q)}, ... ,\\mu_K^{(q)}, (\\sigma^2_1)^{(q)}, ...,  (\\sigma^2_K)^{(q)}, \\pi_1^{(q)}, ..., \\pi_K^{(q)})$ les paramètres calculés à la $(q)$ ème itération, où $\\forall (q), \\sum_{k=1}^{K} \\pi_k^{(q)} = 1$.\n",
    "\n",
    "La mixture est donc sous la forme:\n",
    "$$\n",
    "\\sum_{j = 1}^{j = K} \\pi_j^{(q)} * N(x_i, \\mu_j^{(q)}, (\\sigma^2_j)^{(q)})\n",
    "$$\n"
   ]
  },
  {
   "cell_type": "markdown",
   "metadata": {},
   "source": [
    "## Initialisation de l'algorithme EM\n",
    "\n",
    "Arbitrairement, on pose des valeurs initiales pour $\\Theta^{(0)}$ tels que:\n",
    "- $\\forall k \\in \\{1, ..., K\\}, \\mu_k^{(0)}$ vaut un élément de $X$ choisi aléatoirement selon une loi uniforme ($\\mu_k^{(0)} = x_i \\ où \\ i$ ~ $U(\\{1, ..., N\\})$),\n",
    "- $\\forall k \\in \\{1, ..., K\\}, (\\sigma^{2}_k)^{(0)} = 1$,\n",
    "- $\\forall k \\in \\{1, ..., K\\}, \\pi_k^{(0)} = \\frac{1}{K}$.\n",
    "\n",
    "\n",
    "Dans la suite, on considèrera: \n",
    "- $\\forall i \\in \\{1, ..., N\\}, \\forall k \\in \\{1, ..., K\\}, z_{i,k}$, la variable latente binaire associé à la composante $x_i$ et qui indique si $x_i$ provient de la distribution $k$.\n",
    "- $\\forall i \\in \\{1, ..., N\\}, \\forall k \\in \\{1, ..., K\\}, t_{i,k} = \\mathbb{P}(z_{i,k} = 1 | X_i = x_i)$, la probabilité conditionnelle que $z_{i,k} = 1$ sachant $x_i$.\n",
    "\n",
    "On note l'indice ($q$), qui indique la $q^{ème}$ de l'itération.\n",
    "\n",
    "Nous devons également définir un critère de convergence, nous allons itérer l'algorithme tant que :\n",
    "$$\n",
    "\\frac{\\|\\Theta^{(q)} - \\Theta^{(q+1)}\\|_2}{\\|\\Theta^{(q)}\\|_2^2} \\le \\epsilon\n",
    "$$\n",
    "et on se fixera $\\epsilon = 10^{-6}$"
   ]
  },
  {
   "cell_type": "code",
   "execution_count": 53,
   "metadata": {},
   "outputs": [],
   "source": [
    "##==============================================================================\n",
    "# Imports\n",
    "##==============================================================================\n",
    "import numpy as np\n",
    "import matplotlib.pyplot as plt\n",
    "import random"
   ]
  },
  {
   "cell_type": "code",
   "execution_count": 54,
   "metadata": {},
   "outputs": [],
   "source": [
    "##==============================================================================\n",
    "# Class Gaussian\n",
    "#\n",
    "# Cette classe permet de créer une distribution gaussienne à partir de sa moyenne et de sa variance\n",
    "##==============================================================================\n",
    "class Gaussian():\n",
    "    def __init__(self, mu, sigma2):\n",
    "        self.mu = mu\n",
    "        self.sigma2 = sigma2\n",
    "\n",
    "    def __repr__(self):\n",
    "        return f\"Gaussian(µ={self.mu}, σ²={self.sigma2})\"\n",
    "\n",
    "    # Probability Density Function\n",
    "    def pdf(self, x):\n",
    "        return (1 / (self.sigma2 * np.sqrt(2 * np.pi))) * np.exp(-0.5 * ((x - self.mu) / self.sigma2) ** 2)\n",
    "\n",
    "    def plot_pdf(self, x_min, x_max):\n",
    "        x = np.linspace(x_min, x_max, 100)\n",
    "        y = self.pdf(x)\n",
    "        plt.plot(x, y, label=self.__repr__())\n",
    "        plt.grid()\n",
    "        plt.legend()"
   ]
  },
  {
   "cell_type": "markdown",
   "metadata": {},
   "source": [
    "## E-step\n",
    "\n",
    "On a:\n",
    "$$\n",
    "\\forall i \\in \\{1, ..., N\\}, \\forall k \\in \\{1, ..., K\\}, \\forall (q), t_{i, k}^{(q)} = \\frac{\\pi_k^{(q)} * N(x_i, \\mu_k^{(q)}, (\\sigma^2_k)^{(q)})}{\\sum_{j = 1}^{j = K} \\pi_j^{(q)} * N(x_i, \\mu_j^{(q)}, (\\sigma^2_j)^{(q)})}\n",
    "$$\n",
    "\n",
    "*Justification: On utilise la formule de Bayes.*\n",
    "\n",
    "On calcule ensuite l'expression $Q(\\Theta, \\Theta^{(q)}) = \\mathbb{E}_{Z|X, \\Theta^{(q)}}[log(P(X, Z; \\Theta))]$, où $log(P(X, Z; \\Theta))$ est la log-vraisemblance de la mixture.\n",
    "\n",
    "Dans le cas de distributions gaussiens, on a: $Q(\\Theta, \\Theta^{(q)}) = \\mathbb{E}_{Z|X, \\Theta^{(q)}} [log(\\prod_{i = 1}^{i = N} \\sum_{k = 1}^{k = K} \\pi_k^{(q)} * N(x_i, \\mu_k^{(q)}, (\\sigma^2_k)^{(q)}))] \\\\$\n",
    "$= \\mathbb{E}_{Z|X, \\Theta^{(q)}} [log(\\prod_{i = 1}^{i = N} \\prod_{k = 1}^{k = K} (\\pi_k^{(q)} * N(x_i, \\mu_k^{(q)}, (\\sigma^2_k)^{(q)}))^{\\mathbf{1[z_{i,k} = 1]}})]$\n",
    "$$= \\sum_{i = 1}^{i = N} \\sum_{k = 1}^{k = K} \\mathbb{E}_{Z|X, \\Theta^{(q)}} [\\mathbb{1[z_{i,k} = 1]}] (log(\\pi_k^{(q)}) + log(\\frac{1}{\\sqrt{2\\pi}(\\sigma^2_k)^{(q)}}) + \\frac{(- (x_i - \\mu_k^{(q)})^2)}{2((\\sigma^2_k)^{(q)})^2})\n",
    "$$\n",
    "$$= \\sum_{i = 1}^{i = N} \\sum_{k = 1}^{k = K} t_{i,k}^{(q)} (log(\\pi_k^{(q)}) + log(\\frac{1}{\\sqrt{2\\pi}(\\sigma^2_k)^{(q)}}) + \\frac{(- (x_i - \\mu_k^{(q)})^2)}{2((\\sigma^2_k)^{(q)})^2})\n",
    "$$"
   ]
  },
  {
   "cell_type": "code",
   "execution_count": 55,
   "metadata": {},
   "outputs": [],
   "source": [
    "##==============================================================================\n",
    "## Fonction E_step\n",
    "##\n",
    "## Paramètres :\n",
    "##      mu : liste des moyennes à l'itération (q)  (taille K)\n",
    "##      sigma : liste des variances à l'itération (q)  (taille K)\n",
    "##      pi : liste des poids à l'itération (q)  (taille K)\n",
    "##      mixture : liste des données  (taille N)\n",
    "##\n",
    "## Retour :\n",
    "##      Q : valeur de l'expression Q à l'itération courante\n",
    "##      tik_list : liste des tik à l'itération courante (taille K x N)\n",
    "##==============================================================================\n",
    "def E_step(mu:list, sigma:list, pi:list, mixture):\n",
    "    gaussian_list = []\n",
    "    tik_list = np.zeros((len(mu), len(mixture)))\n",
    "    Q = 0\n",
    "    for k in range(len(mu)):\n",
    "        gaussian_list.append(Gaussian(mu[k], sigma[k]).pdf(mixture))\n",
    "        tik_list[k] = pi[k] * gaussian_list[k]  # Numérateur de tik\n",
    "\n",
    "    # Division par le dénominateur de tik\n",
    "    tik_list /= np.sum(tik_list, axis=0)\n",
    "\n",
    "    # Calcul de la fonction Q\n",
    "    Q = np.sum(tik_list * np.log(np.array([pi[k] * gaussian_list[k] for k in range(len(mu))])))\n",
    "\n",
    "    return [Q, tik_list]"
   ]
  },
  {
   "cell_type": "markdown",
   "metadata": {},
   "source": [
    "## M-step\n",
    "\n",
    "On cherche à maximiser $Q(\\Theta, \\Theta^{(q)})$ par rapport à $\\Theta$.\n",
    "On aura alors $\\Theta^{(q+1)} = argmax_{\\Theta} Q(\\Theta, \\Theta^{(q)})$.\n",
    "\n",
    "Une méthode que l'on peut utiliser est l'annulation de la dérivée de $Q(\\Theta, \\Theta^{(q)})$ par rapport à $\\Theta$, et la méthode du Lagrangien lorsque cela est nécessaire. On cherche ici à annuler les dérivées partielles de $Q(\\Theta, \\Theta^{(q)})$ par rapport à $\\mu_k$ et $\\sigma_k$, et on utilise le Lagrangien pour $\\pi_k$.\n",
    "\n",
    "Pour une distribution gaussienne, on peut démontrer que:\n",
    "\n",
    "$\\forall k \\in \\{1, ..., K\\}, \\frac{\\partial Q(\\Theta, \\Theta^{(q)})}{\\partial \\mu_k} = \\sum_{i = 1}^{i = N} t_{i,k}^{(q)} (x_i - \\mu_k^{(q)}) = 0$\n",
    "$$\n",
    "\\forall k \\in \\{1, ..., K\\}, \\mu_k^{(q+1)} = \\frac{\\sum_{i = 1}^{i = N} t_{i,k}^{(q)} x_i}{\\sum_{i = 1}^{i = N} t_{i,k}^{(q)}}\n",
    "$$\n",
    "$\\forall k \\in \\{1, ..., K\\}, \\frac{\\partial Q(\\Theta, \\Theta^{(q)})}{\\partial \\sigma^2_k} = \\sum_{i = 1}^{i = N} t_{i,k}^{(q)} (\\frac{1}{\\sigma_k^{(q)}} - \\frac{(x_i - \\mu_k^{(q)})^2}{((\\sigma^2_k)^{(q)})^2}) = 0$\n",
    "$$\n",
    "\\forall k \\in \\{1, ..., K\\}, (\\sigma^2_k)^{(q+1)} = \\frac{\\sum_{i = 1}^{i = N} t_{i,k}^{(q)} (x_i - \\mu_k^{(q+1)})^2}{\\sum_{i = 1}^{i = N} t_{i,k}^{(q)}}\n",
    "$$\n",
    "$\\forall k \\in \\{1, ..., K\\}, \\frac{\\partial Q(\\Theta, \\Theta^{(q)})}{\\partial \\pi_k} = \\sum_{i = 1}^{i = N} t_{i,k}^{(q)} \\frac{1}{\\pi_k} - N = 0$\n",
    "$$\n",
    "\\forall k \\in \\{1, ..., K\\}, \\pi_k^{(q+1)} = \\frac{\\sum_{i = 1}^{i = N} t_{i,k}^{(q)}}{N}\n",
    "$$\n",
    "\n",
    "On obtient alors les formules de mise à jour des paramètres de l'algorithme EM."
   ]
  },
  {
   "cell_type": "code",
   "execution_count": 56,
   "metadata": {},
   "outputs": [],
   "source": [
    "##==============================================================================\n",
    "## Fonction M_step\n",
    "##\n",
    "## Paramètres :\n",
    "##      tik_list : liste des tik à l'itération courante (taille K x N)\n",
    "##      mixture : liste des données  (taille N)\n",
    "##\n",
    "## Retour :\n",
    "##      mu : liste des moyennes à l'itération (q+1)  (taille K)\n",
    "##      sigma : liste des variances à l'itération (q+1)  (taille K)\n",
    "##      pi : liste des poids à l'itération (q+1)  (taille K)\n",
    "##==============================================================================\n",
    "def M_step(tik_list, mixture):\n",
    "    n = len(mixture)\n",
    "    mu = []\n",
    "    sigma = []\n",
    "    pi = []\n",
    "\n",
    "    for k in range(np.shape(tik_list)[0]):\n",
    "        mu.append(np.sum(tik_list[k] * mixture) / np.sum(tik_list[k]))\n",
    "        sigma.append(np.sqrt(np.sum(tik_list[k] * (mixture - mu[k]) ** 2) / np.sum(tik_list[k])))\n",
    "        pi.append(np.sum(tik_list[k]) / n)\n",
    "    \n",
    "    return [mu, sigma, pi]\n",
    "\n"
   ]
  },
  {
   "cell_type": "code",
   "execution_count": 57,
   "metadata": {},
   "outputs": [],
   "source": [
    "mu1 = 0\n",
    "mu2 = 4\n",
    "sigma1 = 1\n",
    "sigma2 = 1/2\n",
    "pi1 = 1/3\n",
    "n = 1000\n",
    "\n",
    "Z = np.zeros(n)\n",
    "mixture = np.zeros(n)\n",
    "\n",
    "for k in range(0, n):\n",
    "    tmp = np.random.choice([1, 2], p=[pi1, 1 - pi1])\n",
    "    Z[k] = tmp\n",
    "    if tmp == 1:\n",
    "        mixture[k] = np.random.normal(mu1, sigma1)\n",
    "    else:\n",
    "        mixture[k] = np.random.normal(mu2, sigma2)"
   ]
  },
  {
   "cell_type": "code",
   "execution_count": 58,
   "metadata": {},
   "outputs": [
    {
     "data": {
      "image/png": "[encoded data removed]",
      "text/plain": [
       "<Figure size 640x480 with 1 Axes>"
      ]
     },
     "metadata": {},
     "output_type": "display_data"
    }
   ],
   "source": [
    "plt.grid()\n",
    "plt.hist(mixture, bins=40, density=True)\n",
    "plt.show()\n"
   ]
  },
  {
   "cell_type": "markdown",
   "metadata": {},
   "source": [
    "# Initialisation"
   ]
  },
  {
   "cell_type": "code",
   "execution_count": 59,
   "metadata": {},
   "outputs": [],
   "source": [
    "n = 1000\n",
    "\n",
    "mu1_list = np.array([mixture[random.randint(0, n - 1)]])\n",
    "mu2_list = np.array([mixture[random.randint(0, n - 1)]])\n",
    "sigma1_list = np.array([1])\n",
    "sigma2_list = np.array([1])\n",
    "pi1_list = np.array([0.4])\n",
    "ti1_list = np.array([0] * n)\n",
    "Q = np.array([])\n",
    "\n",
    "criteria = 10**(-6)"
   ]
  },
  {
   "cell_type": "markdown",
   "metadata": {},
   "source": [
    "# E Step"
   ]
  },
  {
   "cell_type": "code",
   "execution_count": 70,
   "metadata": {},
   "outputs": [],
   "source": [
    "def EM(mu1_list, mu2_list, sigma1_list, sigma2_list, pi1_list, Q, mixture):\n",
    "    \n",
    "    E = E_step([mu1_list[-1], mu2_list[-1]], [sigma1_list[-1], sigma2_list[-1]], [pi1_list[-1], 1 - pi1_list[-1]], mixture)\n",
    "    Q = np.append(Q, E[0])\n",
    "    ti1_list = E[1][0]\n",
    "    tik_list = E[1]\n",
    "    print(\"E-step: \", E)\n",
    "    # M-step\n",
    "    if (len(Q) == 1 or (np.linalg.norm(np.array([mu1_list[-1], mu2_list[-1], sigma1_list[-1], sigma2_list[-1], pi1_list[-1]]) - np.array([mu1_list[-2], mu2_list[-2], sigma1_list[-2], sigma2_list[-2], pi1_list[-2]])) ** 2 / np.linalg.norm(np.array([mu1_list[-2], mu2_list[-2], sigma1_list[-2], sigma2_list[-2], pi1_list[-2]])) ** 2) > criteria):\n",
    "        M = M_step(tik_list, mixture)\n",
    "        mu1_list = np.append(mu1_list, np.sum(ti1_list * mixture) / np.sum(ti1_list))\n",
    "        mu2_list = np.append(mu2_list, np.sum((1 - ti1_list) * mixture) / np.sum(1 - ti1_list))\n",
    "        sigma1_list = np.append(sigma1_list, np.sqrt(np.sum(ti1_list * (mixture - mu1_list[-1]) ** 2) / np.sum(ti1_list)))\n",
    "        sigma2_list = np.append(sigma2_list, np.sqrt(np.sum((1 - ti1_list) * (mixture - mu2_list[-1]) ** 2) / np.sum(1 - ti1_list)))\n",
    "        pi1_list = np.append(pi1_list, np.sum(ti1_list) / n)\n",
    "        print(\"M-step: \", M)\n",
    "        print(\"other: \", mu1_list[-1], mu2_list[-1], sigma1_list[-1], sigma2_list[-1], pi1_list[-1])\n",
    "        return EM(mu1_list, mu2_list, sigma1_list, sigma2_list, pi1_list, Q, mixture)\n",
    "    else:\n",
    "        return mu1_list[-1], mu2_list[-1], sigma1_list[-1], sigma2_list[-1], pi1_list[-1]\n",
    "        "
   ]
  },
  {
   "cell_type": "code",
   "execution_count": 71,
   "metadata": {},
   "outputs": [
    {
     "name": "stdout",
     "output_type": "stream",
     "text": [
      "E-step:  [-3581.6465183704977, array([[0.29580171, 0.11583022, 0.17657529, ..., 0.99184513, 0.99598278,\n",
      "        0.18533226],\n",
      "       [0.70419829, 0.88416978, 0.82342471, ..., 0.00815487, 0.00401722,\n",
      "        0.81466774]])]\n",
      "M-step:  [[1.6727444987252391, 4.05682417447544], [4.30851175705116, 0.39586840739527557], [0.5464048985852469, 0.453595101414753]]\n",
      "other:  1.6727444987252391 4.05682417447544 2.0756954875537885 0.629180743026418 0.5464048985852469\n",
      "E-step:  [-2070.239740998141, array([[1.51983010e-01, 2.85027239e-01, 1.80425940e-01, ...,\n",
      "        1.00000000e+00, 1.00000000e+00, 1.73717661e-01],\n",
      "       [8.48016990e-01, 7.14972761e-01, 8.19574060e-01, ...,\n",
      "        2.85237500e-11, 3.26364639e-14, 8.26282339e-01]])]\n",
      "M-step:  [[1.2147994110566822, 4.056091715136667], [3.9897264479987795, 0.2033183586314584], [0.4582211947145065, 0.5417788052854935]]\n",
      "other:  1.2147994110566822 4.056091715136667 1.9974299607242252 0.4509083705493372 0.4582211947145065\n",
      "E-step:  [-1858.3380491905914, array([[6.17698311e-02, 3.32890444e-01, 1.11845705e-01, ...,\n",
      "        1.00000000e+00, 1.00000000e+00, 1.01021212e-01],\n",
      "       [9.38230169e-01, 6.67109556e-01, 8.88154295e-01, ...,\n",
      "        1.11808075e-21, 1.47578785e-27, 8.98978788e-01]])]\n",
      "M-step:  [[0.8513342903915292, 4.058592200637481], [3.3169587165829832, 0.18760821925210464], [0.4067152926623995, 0.5932847073376005]]\n",
      "other:  0.8513342903915292 4.058592200637481 1.8212519640574127 0.4331376446951992 0.4067152926623995\n",
      "E-step:  [-1763.778237451982, array([[3.08768126e-02, 1.87376361e-01, 5.39249306e-02, ...,\n",
      "        1.00000000e+00, 1.00000000e+00, 4.84687199e-02],\n",
      "       [9.69123187e-01, 8.12623639e-01, 9.46075069e-01, ...,\n",
      "        1.67193938e-23, 6.84192167e-30, 9.51531280e-01]])]\n",
      "M-step:  [[0.5866921255750195, 4.057730521658662], [2.6503145231782126, 0.1948485844451243], [0.37555884201727135, 0.6244411579827287]]\n",
      "other:  0.5866921255750195 4.057730521658662 1.6279786617699301 0.4414165656668588 0.37555884201727135\n",
      "E-step:  [-1688.3519823289919, array([[1.45631538e-02, 6.19707371e-02, 2.02248578e-02, ...,\n",
      "        1.00000000e+00, 1.00000000e+00, 1.85648601e-02],\n",
      "       [9.85436846e-01, 9.38029263e-01, 9.79775142e-01, ...,\n",
      "        1.22696676e-22, 8.90127707e-29, 9.81435140e-01]])]\n",
      "M-step:  [[0.36358125310415595, 4.0519393253829845], [2.0092254108310503, 0.20528733189187537], [0.35186062169748933, 0.6481393783025108]]\n",
      "other:  0.36358125310415595 4.051939325382985 1.4174714850151484 0.45308645079264437 0.35186062169748933\n",
      "E-step:  [-1618.6037051949654, array([[4.76260430e-03, 1.05219039e-02, 4.63780655e-03, ...,\n",
      "        1.00000000e+00, 1.00000000e+00, 4.40835998e-03],\n",
      "       [9.95237396e-01, 9.89478096e-01, 9.95362193e-01, ...,\n",
      "        1.81807464e-21, 2.87713034e-27, 9.95591640e-01]])]\n",
      "M-step:  [[0.18360096580980936, 4.0415787110720585], [1.468435881115638, 0.21470017421048024], [0.3337052297994894, 0.6662947702005105]]\n",
      "other:  0.18360096580980936 4.0415787110720585 1.211790361867777 0.4633575015152773 0.3337052297994894\n",
      "E-step:  [-1565.889910930534, array([[8.61084775e-04, 7.41032469e-04, 5.07059453e-04, ...,\n",
      "        1.00000000e+00, 1.00000000e+00, 5.06097091e-04],\n",
      "       [9.99138915e-01, 9.99258968e-01, 9.99492941e-01, ...,\n",
      "        1.75885285e-20, 5.47413363e-26, 9.99493903e-01]])]\n",
      "M-step:  [[0.06941402197408152, 4.030609615089585], [1.1309179575560813, 0.22292919027320834], [0.3222406528675451, 0.6777593471324549]]\n",
      "other:  0.06941402197408152 4.030609615089585 1.0634462645362395 0.47215377820494914 0.3222406528675451\n",
      "E-step:  [-1540.8475319020556, array([[1.24602211e-04, 3.86071122e-05, 4.24208456e-05, ...,\n",
      "        1.00000000e+00, 1.00000000e+00, 4.46317028e-05],\n",
      "       [9.99875398e-01, 9.99961393e-01, 9.99957579e-01, ...,\n",
      "        1.12132429e-19, 6.12948775e-25, 9.99955368e-01]])]\n",
      "M-step:  [[0.020111484567059888, 4.023798767251127], [0.9931479165830347, 0.22882772747971145], [0.3171195242231691, 0.682880475776831]]\n",
      "other:  0.020111484567059888 4.023798767251127 0.996568069217068 0.47835941245021135 0.3171195242231691\n",
      "E-step:  [-1534.3724628659427, array([[3.80424402e-05, 6.29443471e-06, 9.26033306e-06, ...,\n",
      "        1.00000000e+00, 1.00000000e+00, 1.00636686e-05],\n",
      "       [9.99961958e-01, 9.99993706e-01, 9.99990740e-01, ...,\n",
      "        3.87309337e-19, 3.06781142e-24, 9.99989936e-01]])]\n",
      "M-step:  [[0.004904863711556221, 4.021113317746185], [0.9533289737655205, 0.23160918556543225], [0.31546220053528584, 0.6845377994647143]]\n",
      "other:  0.004904863711556221 4.021113317746185 0.9763856685580348 0.4812579200028112 0.31546220053528584\n",
      "E-step:  [-1533.1747197106279, array([[2.52155356e-05, 3.33879576e-06, 5.45458194e-06, ...,\n",
      "        1.00000000e+00, 1.00000000e+00, 5.99649175e-06],\n",
      "       [9.99974784e-01, 9.99996661e-01, 9.99994545e-01, ...,\n",
      "        6.77437762e-19, 6.31631831e-24, 9.99994004e-01]])]\n",
      "M-step:  [[0.0008229513422084756, 4.0202953508450525], [0.9430817197966535, 0.2325437371506921], [0.3150025336593069, 0.6849974663406931]]\n",
      "other:  0.0008229513422084756 4.0202953508450525 0.9711239466703792 0.4822278892294514 0.3150025336593069\n",
      "E-step:  [-1532.9310643155654, array([[2.25429788e-05, 2.80505361e-06, 4.71976254e-06, ...,\n",
      "        1.00000000e+00, 1.00000000e+00, 5.20540795e-06],\n",
      "       [9.99977457e-01, 9.99997195e-01, 9.99995280e-01, ...,\n",
      "        8.14513240e-19, 8.00790398e-24, 9.99994795e-01]])]\n",
      "M-step:  [[-0.000241561801449134, 4.020071730806043], [0.9404552680995713, 0.23280860642115847], [0.31488102484594926, 0.6851189751540507]]\n",
      "other:  -0.000241561801449134 4.020071730806043 0.9697707296570521 0.48250244188103175 0.31488102484594926\n",
      "E-step:  [-1532.8734703465936, array([[2.18950241e-05, 2.68021546e-06, 4.54500172e-06, ...,\n",
      "        1.00000000e+00, 1.00000000e+00, 5.01692049e-06],\n",
      "       [9.99978105e-01, 9.99997320e-01, 9.99995455e-01, ...,\n",
      "        8.57902677e-19, 8.56077002e-24, 9.99994983e-01]])]\n",
      "Il y a convergence: mu1 = -0.000241561801449134, mu2 = 4.020071730806043, sigma1 = 0.9697707296570521, sigma2 = 0.48250244188103175, pi1 = 0.31488102484594926\n"
     ]
    }
   ],
   "source": [
    "em = EM(mu1_list, mu2_list, sigma1_list, sigma2_list, pi1_list, Q, mixture)\n",
    "print(\"Il y a convergence: mu1 = {}, mu2 = {}, sigma1 = {}, sigma2 = {}, pi1 = {}\".format(em[0], em[1], em[2], em[3], em[4]))"
   ]
  }
 ],
 "metadata": {
  "kernelspec": {
   "display_name": "Python 3 (ipykernel)",
   "language": "python",
   "name": "python3"
  },
  "language_info": {
   "codemirror_mode": {
    "name": "ipython",
    "version": 3
   },
   "file_extension": ".py",
   "mimetype": "text/x-python",
   "name": "python",
   "nbconvert_exporter": "python",
   "pygments_lexer": "ipython3",
   "version": "3.10.6"
  }
 },
 "nbformat": 4,
 "nbformat_minor": 4
}
