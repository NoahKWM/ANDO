{
 "cells": [
  {
   "cell_type": "code",
   "execution_count": 147,
   "metadata": {},
   "outputs": [],
   "source": [
    "import numpy as np\n",
    "import matplotlib.pyplot as plt\n",
    "import random"
   ]
  },
  {
   "cell_type": "markdown",
   "metadata": {},
   "source": [
    "# Projet ANDO"
   ]
  },
  {
   "cell_type": "markdown",
   "metadata": {},
   "source": [
    "## Projection Orthogonale"
   ]
  },
  {
   "cell_type": "markdown",
   "metadata": {},
   "source": [
    "**Définition** :\n",
    "\n",
    "Soit $\\mathcal{E}$ un espace vectoriel de dimension $p$. Si $\\mathcal{D}$ est une droite vectorielle engendrée par le vecteur $\\vec{a}$ qui passe par un point $Q$ de $\\mathbb{R}^p$, l'ensemble des vecteurs orthogonaux à $\\mathcal{D}$ est un hyperplan appelé hyperplan normal à $\\mathcal{D}$ et défini par : \n",
    "\n",
    "$$\n",
    "\\mathcal{D}^{\\perp} =  \\left\\{ \\vec{h} \\in \\mathbb{R}^p \\mid (\\vec{h}\\cdot \\vec{a}) = 0 \\right\\}\n",
    "$$\n",
    "\n",
    "\n",
    "Si $x$ est un point arbitraire de $\\mathbb{R}^p$ et si on note $\\vec{x}$ le vecteur associé qui va de $Q$ à ce point, on peut toujours le décomposer de la façon suivante :\n",
    "\n",
    "$$\n",
    "\\vec{x} = \\vec{x}_{\\mathcal{D}} + \\vec{x}_{\\perp}\n",
    "\\text{ avec }\n",
    "\\vec{x}_{\\mathcal{D}} = \\frac{(\\vec{x} \\cdot \\vec{a})}{\\|a\\|^2}\\vec{a}\n",
    "$$\n",
    "\n",
    "Si on note $x_{\\mathcal{D}}$ la projection du point sur la droite $\\mathcal{D}$ et si on note $x_i$ la ième composante du point $x$, on obtient alors les coordonnées du point $x_{\\mathcal{D}}$:\n",
    "\n",
    "$$\n",
    "\\forall i \\in [1;p], x_{\\mathcal{D}_i} =  Q_{i} + \\frac{\\sum_{k=1}^{p} (x_{k} - Q_{k}) * a_{k}}{\\|a\\|^2} * a_{i}\n",
    "$$\n",
    "\n",
    "Pour avoir la distance entre le point $x$ et la droite $\\mathcal{D}$, on a besoin de:\n",
    "\n",
    "$$\n",
    "\\|\\vec{x}_{\\perp} \\| = \\|(x_1 - x_{\\mathcal{D}_1},\\  x_2 - x_{\\mathcal{D}_2}, \\ ..., \\ x_p - x_{\\mathcal{D}_p}) \\|\n",
    "$$\n",
    "\n",
    "Dans la suite de ce document, on choisira de représenter une droite dans $\\mathbb{R}^p$ par un de ses vecteurs directeurs unitaires, noté $\\vec{u}$."
   ]
  },
  {
   "cell_type": "code",
   "execution_count": 148,
   "metadata": {},
   "outputs": [],
   "source": [
    "# Fonction pour la projection orthogonale d'un point sur une droite\n",
    "# x: point à projeter\n",
    "# u: vecteur directeur unitaire de la droite\n",
    "# q: point de la droite\n",
    "# retourne la projection orthogonale de x sur la droite\n",
    "def projection_orthogonale(x, u, q):\n",
    "    return np.dot(x - q, u) * u + q\n",
    "\n",
    "# Fonction pour calculer la distance entre un point et sa projection orthogonale sur une droite\n",
    "# x: un point de l'espace\n",
    "# u: vecteur directeur unitaire de la droite\n",
    "# q: point de la droite\n",
    "# retourne la distance entre x et sa projection orthogonale sur la droite\n",
    "def distance_projection(x, u, q):\n",
    "    projection = projection_orthogonale(x, u, q)\n",
    "    return np.linalg.norm(x - projection)"
   ]
  },
  {
   "cell_type": "code",
   "execution_count": 149,
   "metadata": {},
   "outputs": [],
   "source": [
    "class Point():\n",
    "    def __init__(self, coordonnées: np.array):\n",
    "        self.coordonnées = coordonnées\n",
    "\n",
    "    def __repr__(self):\n",
    "        return f\"Point({self.coordonnées})\"\n",
    "    \n",
    "    def dim(self):\n",
    "        return self.coordonnées.shape[0]\n",
    "    \n",
    "class Droite():\n",
    "    def __init__(self, point: Point, vecteur: np.array):\n",
    "        if (point.dim() != vecteur.shape[0]):\n",
    "            raise Exception(\"Le vecteur doit avoir la même dimension que le point\", point.dim(), vecteur.shape[0])\n",
    "        self.point = point\n",
    "        self.vecteur = vecteur/np.linalg.norm(vecteur)\n",
    "\n",
    "    def __repr__(self):\n",
    "        return f\"Droite(Passe par le point {self.point}, vecteur directeur {self.vecteur})\"\n",
    "\n",
    "    def projection_orthogonale(self, point: Point):\n",
    "        if (point.dim() != self.vecteur.shape[0]):\n",
    "           raise Exception(\"Le point doit avoir la même dimension que le vecteur directeur,\", point.dim(), self.vecteur.shape[0])\n",
    "        return projection_orthogonale(point.coordonnées, self.vecteur, self.point.coordonnées)\n",
    "\n",
    "    def distance_projection(self, point: Point):\n",
    "        if (point.dim() != self.vecteur.shape[0]):\n",
    "            raise Exception(\"Le point doit avoir la même dimension que le vecteur directeur,\", point.dim(), self.vecteur.shape[0])\n",
    "        return distance_projection(point.coordonnées, self.vecteur, self.point.coordonnées)\n",
    "    "
   ]
  },
  {
   "cell_type": "code",
   "execution_count": 150,
   "metadata": {},
   "outputs": [],
   "source": [
    "# Fonction pour afficher la projection orthogonale d'un point sur une droite\n",
    "# x: point à projeter\n",
    "# droite: droite de la projection \n",
    "def plot_projection_distance(x: Point, D: Droite):\n",
    "    # Calculer la projection orthogonale\n",
    "    projection = D.projection_orthogonale(x)\n",
    "    \n",
    "    # Créer un vecteur pour représenter la droite\n",
    "    t = np.linspace(0, 5, 100)\n",
    "    line = np.outer(t, D.vecteur) + D.point.coordonnées\n",
    "    \n",
    "    # Créer le graphique\n",
    "    plt.figure(figsize=(8, 8))\n",
    "    \n",
    "    # Tracer la droite\n",
    "    plt.plot(line[:, 0], line[:, 1], label='Droite D')\n",
    "    \n",
    "    # Tracer le point x\n",
    "    plt.scatter(x.coordonnées[0], x.coordonnées[1], color='red', label='Point x')\n",
    "    \n",
    "    # Tracer la projection orthogonale\n",
    "    plt.scatter(projection[0], projection[1], color='green', label='Projection orthogonale')\n",
    "    \n",
    "    # Tracer la ligne de distance\n",
    "    plt.plot([x.coordonnées[0], projection[0]], [x.coordonnées[1], projection[1]], linestyle='--', color='blue', label='Distance')\n",
    "    \n",
    "    # Ajouter des étiquettes et une légende\n",
    "    plt.text(x.coordonnées[0] + 0.2, x.coordonnées[1] + 0.2, 'point x', color='red')\n",
    "    plt.text(projection[0] + 0.2, projection[1] - 0.2, 'Projection', color='green')\n",
    "    \n",
    "    plt.xlabel('X')\n",
    "    plt.ylabel('Y')\n",
    "    plt.axhline(0, color='black',linewidth=0.5)\n",
    "    plt.axvline(0, color='black',linewidth=0.5)\n",
    "    plt.grid(color = 'gray', linestyle = '--', linewidth = 0.5)\n",
    "    plt.legend()\n",
    "    plt.axis('equal')\n",
    "    plt.title('Projection orthogonale et distance entre un point et une droite')\n",
    "    \n",
    "    # Afficher le graphique\n",
    "    plt.show()\n",
    "\n",
    "#nbconvert"
   ]
  },
  {
   "cell_type": "code",
   "execution_count": 151,
   "metadata": {},
   "outputs": [
    {
     "name": "stdout",
     "output_type": "stream",
     "text": [
      "Coordonnées de la projection orthogonale: [-0.79802776  1.63075237]\n",
      "Distance entre le point et la droite: 3.1150920360380336\n"
     ]
    },
    {
     "data": {
      "image/png": "[encoded data removed]",
      "text/plain": [
       "<Figure size 800x800 with 1 Axes>"
      ]
     },
     "metadata": {},
     "output_type": "display_data"
    }
   ],
   "source": [
    "x = Point(np.array([2, 3]))\n",
    "D = Droite(Point(np.array([0,0])), np.array([-2.3, 4.7]))\n",
    "\n",
    "\n",
    "# Calculer la projection orthogonale\n",
    "projection = D.projection_orthogonale(x)\n",
    "print(\"Coordonnées de la projection orthogonale:\", projection)\n",
    "\n",
    "# Calculer la distance entre le point et la droite\n",
    "distance = D.distance_projection(x)\n",
    "print(\"Distance entre le point et la droite:\", distance)\n",
    "plot_projection_distance(x, D)"
   ]
  },
  {
   "cell_type": "code",
   "execution_count": 152,
   "metadata": {},
   "outputs": [],
   "source": [
    "# Fonction pour calculer la droite la plus proche d'un point\n",
    "# x: un point de l'espace\n",
    "# droites: un tableau de droites\n",
    "# retourne le vecteur directeur de la droite la plus proche de x\n",
    "def droite_plus_proche(x, droites):\n",
    "    distances = [d.distance_projection(x) for d in droites]\n",
    "    \n",
    "    # Trouver l'indice de la droite la plus proche\n",
    "    indice_plus_proche = np.argmin(distances)\n",
    "    \n",
    "    # Vérifier s'il y a des égalités de distance\n",
    "    indices_egalite = np.where(distances == distances[indice_plus_proche])[0]\n",
    "    \n",
    "    # S'il y a des égalités, choisir aléatoirement parmi les droites équidistantes\n",
    "    if len(indices_egalite) > 1:\n",
    "        indice_plus_proche = np.random.choice(indices_egalite)\n",
    "    \n",
    "    return droites[indice_plus_proche], \"Indice de la liste: {}\".format(indice_plus_proche)\n",
    "\n"
   ]
  },
  {
   "cell_type": "markdown",
   "metadata": {},
   "source": [
    "# Les nuées dynamiques ou les kmeans généralisés"
   ]
  },
  {
   "cell_type": "code",
   "execution_count": 154,
   "metadata": {},
   "outputs": [
    {
     "name": "stdout",
     "output_type": "stream",
     "text": [
      "[Point([ 1.26593626 -0.8667404 ])]\n",
      "Point([ 1.26593626 -0.8667404 ])\n",
      "[Point([ 0.2829785  -1.50629471])]\n",
      "Point([ 0.2829785  -1.50629471])\n",
      "[Point([-1.0856306   0.99734545]), Point([-0.57860025  1.65143654]), Point([-2.42667924 -0.42891263])]\n",
      "Point([-1.3636367   0.73995645])\n",
      "[Point([ 1.26593626 -0.8667404 ])]\n",
      "Point([ 1.26593626 -0.8667404 ])\n",
      "[Point([ 0.2829785  -1.50629471])]\n",
      "Point([ 0.2829785  -1.50629471])\n",
      "[Point([-1.0856306   0.99734545]), Point([-0.57860025  1.65143654]), Point([-2.42667924 -0.42891263])]\n",
      "Point([-1.3636367   0.73995645])\n",
      "[Point([ 1.26593626 -0.8667404 ])]\n",
      "Point([ 1.26593626 -0.8667404 ])\n",
      "[Point([ 0.2829785  -1.50629471])]\n",
      "Point([ 0.2829785  -1.50629471])\n",
      "[Point([-1.0856306   0.99734545]), Point([-0.57860025  1.65143654]), Point([-2.42667924 -0.42891263])]\n",
      "Point([-1.3636367   0.73995645])\n",
      "[Point([ 1.26593626 -0.8667404 ])]\n",
      "Point([ 1.26593626 -0.8667404 ])\n",
      "[Point([ 0.2829785  -1.50629471])]\n",
      "Point([ 0.2829785  -1.50629471])\n",
      "[Point([-1.0856306   0.99734545]), Point([-0.57860025  1.65143654]), Point([-2.42667924 -0.42891263])]\n",
      "Point([-1.3636367   0.73995645])\n",
      "[Point([ 1.26593626 -0.8667404 ])]\n",
      "Point([ 1.26593626 -0.8667404 ])\n",
      "[Point([ 0.2829785  -1.50629471])]\n",
      "Point([ 0.2829785  -1.50629471])\n",
      "[Point([-1.0856306   0.99734545]), Point([-0.57860025  1.65143654]), Point([-2.42667924 -0.42891263])]\n",
      "Point([-1.3636367   0.73995645])\n",
      "[Point([ 1.26593626 -0.8667404 ])]\n",
      "Point([ 1.26593626 -0.8667404 ])\n",
      "[Point([ 0.2829785  -1.50629471])]\n",
      "Point([ 0.2829785  -1.50629471])\n",
      "[Point([-1.0856306   0.99734545]), Point([-0.57860025  1.65143654]), Point([-2.42667924 -0.42891263])]\n",
      "Point([-1.3636367   0.73995645])\n",
      "[Point([ 1.26593626 -0.8667404 ])]\n",
      "Point([ 1.26593626 -0.8667404 ])\n",
      "[Point([ 0.2829785  -1.50629471])]\n",
      "Point([ 0.2829785  -1.50629471])\n",
      "[Point([-1.0856306   0.99734545]), Point([-0.57860025  1.65143654]), Point([-2.42667924 -0.42891263])]\n",
      "Point([-1.3636367   0.73995645])\n",
      "[Point([ 1.26593626 -0.8667404 ])]\n",
      "Point([ 1.26593626 -0.8667404 ])\n",
      "[Point([ 0.2829785  -1.50629471])]\n",
      "Point([ 0.2829785  -1.50629471])\n",
      "[Point([-1.0856306   0.99734545]), Point([-0.57860025  1.65143654]), Point([-2.42667924 -0.42891263])]\n",
      "Point([-1.3636367   0.73995645])\n",
      "[Point([ 1.26593626 -0.8667404 ])]\n",
      "Point([ 1.26593626 -0.8667404 ])\n",
      "[Point([ 0.2829785  -1.50629471])]\n",
      "Point([ 0.2829785  -1.50629471])\n",
      "[Point([-1.0856306   0.99734545]), Point([-0.57860025  1.65143654]), Point([-2.42667924 -0.42891263])]\n",
      "Point([-1.3636367   0.73995645])\n",
      "[Point([ 1.26593626 -0.8667404 ])]\n",
      "Point([ 1.26593626 -0.8667404 ])\n",
      "[Point([ 0.2829785  -1.50629471])]\n",
      "Point([ 0.2829785  -1.50629471])\n",
      "[Point([-1.0856306   0.99734545]), Point([-0.57860025  1.65143654]), Point([-2.42667924 -0.42891263])]\n",
      "Point([-1.3636367   0.73995645])\n",
      "[Point([ 1.26593626 -0.8667404 ])]\n",
      "Point([ 1.26593626 -0.8667404 ])\n",
      "[Point([ 0.2829785  -1.50629471])]\n",
      "Point([ 0.2829785  -1.50629471])\n",
      "[Point([-1.0856306   0.99734545]), Point([-0.57860025  1.65143654]), Point([-2.42667924 -0.42891263])]\n",
      "Point([-1.3636367   0.73995645])\n",
      "[Point([ 1.26593626 -0.8667404 ])]\n",
      "Point([ 1.26593626 -0.8667404 ])\n",
      "[Point([ 0.2829785  -1.50629471])]\n",
      "Point([ 0.2829785  -1.50629471])\n",
      "[Point([-1.0856306   0.99734545]), Point([-0.57860025  1.65143654]), Point([-2.42667924 -0.42891263])]\n",
      "Point([-1.3636367   0.73995645])\n",
      "[Point([ 1.26593626 -0.8667404 ])]\n",
      "Point([ 1.26593626 -0.8667404 ])\n",
      "[Point([ 0.2829785  -1.50629471])]\n",
      "Point([ 0.2829785  -1.50629471])\n",
      "[Point([-1.0856306   0.99734545]), Point([-0.57860025  1.65143654]), Point([-2.42667924 -0.42891263])]\n",
      "Point([-1.3636367   0.73995645])\n",
      "[Point([ 1.26593626 -0.8667404 ])]\n",
      "Point([ 1.26593626 -0.8667404 ])\n",
      "[Point([ 0.2829785  -1.50629471])]\n",
      "Point([ 0.2829785  -1.50629471])\n",
      "[Point([-1.0856306   0.99734545]), Point([-0.57860025  1.65143654]), Point([-2.42667924 -0.42891263])]\n",
      "Point([-1.3636367   0.73995645])\n",
      "[Point([ 1.26593626 -0.8667404 ])]\n",
      "Point([ 1.26593626 -0.8667404 ])\n",
      "[Point([ 0.2829785  -1.50629471])]\n",
      "Point([ 0.2829785  -1.50629471])\n",
      "[Point([-1.0856306   0.99734545]), Point([-0.57860025  1.65143654]), Point([-2.42667924 -0.42891263])]\n",
      "Point([-1.3636367   0.73995645])\n",
      "[Point([ 1.26593626 -0.8667404 ])]\n",
      "Point([ 1.26593626 -0.8667404 ])\n",
      "[Point([ 0.2829785  -1.50629471])]\n",
      "Point([ 0.2829785  -1.50629471])\n",
      "[Point([-1.0856306   0.99734545]), Point([-0.57860025  1.65143654]), Point([-2.42667924 -0.42891263])]\n",
      "Point([-1.3636367   0.73995645])\n",
      "[Point([ 1.26593626 -0.8667404 ])]\n",
      "Point([ 1.26593626 -0.8667404 ])\n",
      "[Point([ 0.2829785  -1.50629471])]\n",
      "Point([ 0.2829785  -1.50629471])\n",
      "[Point([-1.0856306   0.99734545]), Point([-0.57860025  1.65143654]), Point([-2.42667924 -0.42891263])]\n",
      "Point([-1.3636367   0.73995645])\n",
      "[Point([ 1.26593626 -0.8667404 ])]\n",
      "Point([ 1.26593626 -0.8667404 ])\n",
      "[Point([ 0.2829785  -1.50629471])]\n",
      "Point([ 0.2829785  -1.50629471])\n",
      "[Point([-1.0856306   0.99734545]), Point([-0.57860025  1.65143654]), Point([-2.42667924 -0.42891263])]\n",
      "Point([-1.3636367   0.73995645])\n",
      "[Point([ 1.26593626 -0.8667404 ])]\n",
      "Point([ 1.26593626 -0.8667404 ])\n",
      "[Point([ 0.2829785  -1.50629471])]\n",
      "Point([ 0.2829785  -1.50629471])\n",
      "[Point([-1.0856306   0.99734545]), Point([-0.57860025  1.65143654]), Point([-2.42667924 -0.42891263])]\n",
      "Point([-1.3636367   0.73995645])\n",
      "[Point([ 1.26593626 -0.8667404 ])]\n",
      "Point([ 1.26593626 -0.8667404 ])\n",
      "[Point([ 0.2829785  -1.50629471])]\n",
      "Point([ 0.2829785  -1.50629471])\n",
      "[Point([-1.0856306   0.99734545]), Point([-0.57860025  1.65143654]), Point([-2.42667924 -0.42891263])]\n",
      "Point([-1.3636367   0.73995645])\n",
      "[Point([ 1.26593626 -0.8667404 ])]\n",
      "Point([ 1.26593626 -0.8667404 ])\n",
      "[Point([ 0.2829785  -1.50629471])]\n",
      "Point([ 0.2829785  -1.50629471])\n",
      "[Point([-1.0856306   0.99734545]), Point([-0.57860025  1.65143654]), Point([-2.42667924 -0.42891263])]\n",
      "Point([-1.3636367   0.73995645])\n",
      "[Point([ 1.26593626 -0.8667404 ])]\n",
      "Point([ 1.26593626 -0.8667404 ])\n",
      "[Point([ 0.2829785  -1.50629471])]\n",
      "Point([ 0.2829785  -1.50629471])\n",
      "[Point([-1.0856306   0.99734545]), Point([-0.57860025  1.65143654]), Point([-2.42667924 -0.42891263])]\n",
      "Point([-1.3636367   0.73995645])\n",
      "[Point([ 1.26593626 -0.8667404 ])]\n",
      "Point([ 1.26593626 -0.8667404 ])\n",
      "[Point([ 0.2829785  -1.50629471])]\n",
      "Point([ 0.2829785  -1.50629471])\n",
      "[Point([-1.0856306   0.99734545]), Point([-0.57860025  1.65143654]), Point([-2.42667924 -0.42891263])]\n",
      "Point([-1.3636367   0.73995645])\n",
      "[Point([-0.57860025  1.65143654]), Point([ 1.26593626 -0.8667404 ])]\n",
      "Point([0.343668   0.39234807])\n",
      "[Point([ 0.2829785  -1.50629471])]\n",
      "Point([ 0.2829785  -1.50629471])\n",
      "[Point([-1.0856306   0.99734545]), Point([-2.42667924 -0.42891263])]\n",
      "Point([-1.75615492  0.28421641])\n",
      "[Point([-1.0856306   0.99734545]), Point([ 0.2829785  -1.50629471]), Point([-0.57860025  1.65143654]), Point([-2.42667924 -0.42891263]), Point([ 1.26593626 -0.8667404 ])]\n",
      "Point([-0.50839907 -0.03063315])\n",
      "[]\n",
      "Point(nan)\n"
     ]
    },
    {
     "name": "stderr",
     "output_type": "stream",
     "text": [
      "C:\\Users\\noahk\\AppData\\Local\\Temp\\ipykernel_21508\\1359722170.py:16: RuntimeWarning: invalid value encountered in divide\n",
      "  self.vecteur = vecteur/np.linalg.norm(vecteur)\n",
      "c:\\Users\\noahk\\AppData\\Local\\Programs\\Python\\Python312\\Lib\\site-packages\\numpy\\core\\fromnumeric.py:3504: RuntimeWarning: Mean of empty slice.\n",
      "  return _methods._mean(a, axis=axis, dtype=dtype,\n",
      "c:\\Users\\noahk\\AppData\\Local\\Programs\\Python\\Python312\\Lib\\site-packages\\numpy\\core\\_methods.py:129: RuntimeWarning: invalid value encountered in scalar divide\n",
      "  ret = ret.dtype.type(ret / rcount)\n"
     ]
    },
    {
     "ename": "IndexError",
     "evalue": "tuple index out of range",
     "output_type": "error",
     "traceback": [
      "\u001b[1;31m---------------------------------------------------------------------------\u001b[0m",
      "\u001b[1;31mIndexError\u001b[0m                                Traceback (most recent call last)",
      "Cell \u001b[1;32mIn[154], line 59\u001b[0m\n\u001b[0;32m     57\u001b[0m \u001b[38;5;66;03m# Appliquer l'algorithme des k-means généralisés\u001b[39;00m\n\u001b[0;32m     58\u001b[0m K \u001b[38;5;241m=\u001b[39m \u001b[38;5;241m3\u001b[39m  \u001b[38;5;66;03m# Nombre de classes\u001b[39;00m\n\u001b[1;32m---> 59\u001b[0m classes, representants \u001b[38;5;241m=\u001b[39m \u001b[43mkmeans_generalises\u001b[49m\u001b[43m(\u001b[49m\u001b[43mdata\u001b[49m\u001b[43m,\u001b[49m\u001b[43m \u001b[49m\u001b[43mK\u001b[49m\u001b[43m)\u001b[49m\n\u001b[0;32m     61\u001b[0m \u001b[38;5;66;03m# Afficher les résultats\u001b[39;00m\n\u001b[0;32m     62\u001b[0m \u001b[38;5;28;01mfor\u001b[39;00m i \u001b[38;5;129;01min\u001b[39;00m \u001b[38;5;28mrange\u001b[39m(K):\n",
      "Cell \u001b[1;32mIn[154], line 38\u001b[0m, in \u001b[0;36mkmeans_generalises\u001b[1;34m(points, K, max_iterations)\u001b[0m\n\u001b[0;32m     36\u001b[0m             representants[k] \u001b[38;5;241m=\u001b[39m Droite(point_k, u_k)\n\u001b[0;32m     37\u001b[0m         \u001b[38;5;28;01melse\u001b[39;00m:\n\u001b[1;32m---> 38\u001b[0m             representants[k] \u001b[38;5;241m=\u001b[39m \u001b[43mDroite\u001b[49m\u001b[43m(\u001b[49m\u001b[43mpoint_k\u001b[49m\u001b[43m,\u001b[49m\u001b[43m \u001b[49m\u001b[43mnp\u001b[49m\u001b[38;5;241;43m.\u001b[39;49m\u001b[43mrandom\u001b[49m\u001b[38;5;241;43m.\u001b[39;49m\u001b[43mrandn\u001b[49m\u001b[43m(\u001b[49m\u001b[43mdimension\u001b[49m\u001b[43m)\u001b[49m\u001b[43m)\u001b[49m\n\u001b[0;32m     40\u001b[0m         \u001b[38;5;66;03m# point_k = Point(np.mean([point.coordonnées for point in points_in_class], axis=0))\u001b[39;00m\n\u001b[0;32m     41\u001b[0m         \u001b[38;5;66;03m# ind_min, dist_min = (0, 0)\u001b[39;00m\n\u001b[0;32m     42\u001b[0m         \u001b[38;5;66;03m# # for r in range(0, 1800):\u001b[39;00m\n\u001b[1;32m   (...)\u001b[0m\n\u001b[0;32m     48\u001b[0m \n\u001b[0;32m     49\u001b[0m \u001b[38;5;66;03m# Retourner les classes et les représentants finaux\u001b[39;00m\n\u001b[0;32m     50\u001b[0m \u001b[38;5;28;01mreturn\u001b[39;00m classes, representants\n",
      "Cell \u001b[1;32mIn[149], line 13\u001b[0m, in \u001b[0;36mDroite.__init__\u001b[1;34m(self, point, vecteur)\u001b[0m\n\u001b[0;32m     12\u001b[0m \u001b[38;5;28;01mdef\u001b[39;00m \u001b[38;5;21m__init__\u001b[39m(\u001b[38;5;28mself\u001b[39m, point: Point, vecteur: np\u001b[38;5;241m.\u001b[39marray):\n\u001b[1;32m---> 13\u001b[0m     \u001b[38;5;28;01mif\u001b[39;00m (\u001b[43mpoint\u001b[49m\u001b[38;5;241;43m.\u001b[39;49m\u001b[43mdim\u001b[49m\u001b[43m(\u001b[49m\u001b[43m)\u001b[49m \u001b[38;5;241m!=\u001b[39m vecteur\u001b[38;5;241m.\u001b[39mshape[\u001b[38;5;241m0\u001b[39m]):\n\u001b[0;32m     14\u001b[0m         \u001b[38;5;28;01mraise\u001b[39;00m \u001b[38;5;167;01mException\u001b[39;00m(\u001b[38;5;124m\"\u001b[39m\u001b[38;5;124mLe vecteur doit avoir la même dimension que le point\u001b[39m\u001b[38;5;124m\"\u001b[39m, point\u001b[38;5;241m.\u001b[39mdim(), vecteur\u001b[38;5;241m.\u001b[39mshape[\u001b[38;5;241m0\u001b[39m])\n\u001b[0;32m     15\u001b[0m     \u001b[38;5;28mself\u001b[39m\u001b[38;5;241m.\u001b[39mpoint \u001b[38;5;241m=\u001b[39m point\n",
      "Cell \u001b[1;32mIn[149], line 9\u001b[0m, in \u001b[0;36mPoint.dim\u001b[1;34m(self)\u001b[0m\n\u001b[0;32m      8\u001b[0m \u001b[38;5;28;01mdef\u001b[39;00m \u001b[38;5;21mdim\u001b[39m(\u001b[38;5;28mself\u001b[39m):\n\u001b[1;32m----> 9\u001b[0m     \u001b[38;5;28;01mreturn\u001b[39;00m \u001b[38;5;28;43mself\u001b[39;49m\u001b[38;5;241;43m.\u001b[39;49m\u001b[43mcoordonnées\u001b[49m\u001b[38;5;241;43m.\u001b[39;49m\u001b[43mshape\u001b[49m\u001b[43m[\u001b[49m\u001b[38;5;241;43m0\u001b[39;49m\u001b[43m]\u001b[49m\n",
      "\u001b[1;31mIndexError\u001b[0m: tuple index out of range"
     ]
    }
   ],
   "source": [
    "# Créer un ensemble de droites représentant les K classes initiales\n",
    "def initialiser_representants(K, points):\n",
    "    dimension = points[0].dim()\n",
    "    N = len(points)\n",
    "    ind = random.sample(range(N), K)\n",
    "    representants = np.array([])\n",
    "    for k in range(K):\n",
    "        representants = np.append(representants, Droite(points[ind[k]], np.random.randn(dimension))) \n",
    "    return representants\n",
    "\n",
    "\n",
    "# Fonction pour appliquer l'algorithme des k-means généralisés\n",
    "def kmeans_generalises(points, K, max_iterations=100):\n",
    "    N, dimension = len(points), points[0].dim()\n",
    "\n",
    "    # Initialisation des représentants (droites)\n",
    "    representants = initialiser_representants(K, points)\n",
    "\n",
    "    for iteration in range(max_iterations):\n",
    "        # Affectation des points aux classes\n",
    "        \n",
    "        distances = np.array([[representant.distance_projection(point) for representant in representants] for point in points]) # Taille : N x K\n",
    "        classes = np.argmin(distances, axis=1) # Pour chaque point, on prend l'indice de la classe la plus proche\n",
    "\n",
    "        # Mise à jour des représentants\n",
    "        for k in range(K):\n",
    "            # Sélectionner les points de la classe k\n",
    "            points_in_class = [points[i] for i in range(N) if classes[i] == k]\n",
    "            print(points_in_class)\n",
    "            # Calculer le nouveau représentant\n",
    "            coord = np.mean([point.coordonnées for point in points_in_class], axis=0)\n",
    "            point_k = Point(coord)\n",
    "            print(point_k)\n",
    "            if (len(points_in_class) > 1):\n",
    "                u_k = sum( (xi.coordonnées - point_k.coordonnées) / np.linalg.norm (xi.coordonnées - point_k.coordonnées) for xi in points_in_class) / len(points_in_class)\n",
    "                representants[k] = Droite(point_k, u_k)\n",
    "            else:\n",
    "                representants[k] = Droite(point_k, np.random.randn(dimension))\n",
    "\n",
    "            # point_k = Point(np.mean([point.coordonnées for point in points_in_class], axis=0))\n",
    "            # ind_min, dist_min = (0, 0)\n",
    "            # # for r in range(0, 1800):\n",
    "            # #     droite_k = Droite(point_k, np.array([np.cos(r*np.pi/1800), np.sin(r*np.pi/1800)]))\n",
    "            # #     sum_dist = np.sum([droite_k.distance_projection(point) for point in points_in_class])\n",
    "            # #     if (sum_dist < dist_min):\n",
    "            # #         ind_min, dist_min = (r, sum_dist)\n",
    "            # # representants[k] = Droite(point_k, np.array([np.cos(ind_min*np.pi/1800), np.sin(ind_min*np.pi/1800)]))\n",
    "\n",
    "    # Retourner les classes et les représentants finaux\n",
    "    return classes, representants\n",
    "\n",
    "# Exemple d'utilisation\n",
    "np.random.seed(123)\n",
    "# Génération de données aléatoires bidimensionnelles\n",
    "data = [Point(np.random.randn(2)) for _ in range(5)]\n",
    "\n",
    "# Appliquer l'algorithme des k-means généralisés\n",
    "K = 3  # Nombre de classes\n",
    "classes, representants = kmeans_generalises(data, K)\n",
    "\n",
    "# Afficher les résultats\n",
    "for i in range(K):\n",
    "    print(f\"Classe {i + 1} - Représentant : {representants[i]}\")\n",
    "    print(f\"Points dans la classe : {[data[j] for j in range(len(data)) if classes[j] == i]}\\n\")"
   ]
  },
  {
   "cell_type": "code",
   "execution_count": 23,
   "metadata": {},
   "outputs": [
    {
     "name": "stdout",
     "output_type": "stream",
     "text": [
      "[Point(2.392365265937726, 0.4129121603087788), Point(0.9787360059373466, 2.2381433384979528), Point(-1.2940853231612488, -1.0387882102049535), Point(1.7437122251229307, -0.7980627352410625), Point(0.02968323030333022, 1.0693159694243486), Point(0.8907063912931708, 1.7548861819811095), Point(1.4956441370334692, 1.0693926697057368), Point(-0.7727087142471915, 0.7948626677932181), Point(0.31427199450686705, -1.326265459940456), Point(1.4172990464768525, 0.8072365345785665)]\n"
     ]
    },
    {
     "data": {
      "text/plain": [
       "[Droite(Passe par le point Point(-1.2940853231612488, -1.0387882102049535), vecteur directeur [ 0.19154566 -0.9814837 ]),\n",
       " Droite(Passe par le point Point(0.31427199450686705, -1.326265459940456), vecteur directeur [-0.98641965  0.16424458]),\n",
       " Droite(Passe par le point Point(0.31427199450686705, -1.326265459940456), vecteur directeur [ 0.49098916 -0.87116568])]"
      ]
     },
     "execution_count": 23,
     "metadata": {},
     "output_type": "execute_result"
    }
   ],
   "source": [
    "data = [Point(*np.random.randn(2)) for _ in range(10)]\n",
    "print(data)\n",
    "\n",
    "initialiser_representants(3, data)"
   ]
  },
  {
   "cell_type": "code",
   "execution_count": 145,
   "metadata": {},
   "outputs": [
    {
     "data": {
      "text/plain": [
       "int"
      ]
     },
     "execution_count": 145,
     "metadata": {},
     "output_type": "execute_result"
    }
   ],
   "source": [
    "p = Point(np.array([2, 3]))\n",
    "type(p.coordonnées.shape[0])"
   ]
  },
  {
   "cell_type": "markdown",
   "metadata": {},
   "source": [
    "## EM Algorithm (2023)\n",
    "\n",
    "On applique l'algorithme EM sur une mixture unidimensionnelle de 2 Gaussiennes, avec pour moyennes, variances et proportions respectives:  $\\mu_1 = 0$, $\\mu_2 = 4$, $\\sigma_1 = 1$, $\\sigma_2 = 1/2$ ...\n",
    "\n",
    "On note $D(x, \\mu, \\sigma)$ la distribution.\n",
    "\n",
    "### Initialisation of the EM algorithm\n",
    "\n",
    "Arbitrairement, on pose 0, 0, 1, 1, 0,5.\n",
    "Soient $X = (x_1, x_2, ..., x_n)$ un échantillon des distributions mentionnées. On considère $\\forall i \\in [1, n], \\forall k \\in [1, 2], z_{ik}$ la variable latente binaire associé à la composante $x_i$ et qui indique si $x_i$ provient de la distribution $k$.\n",
    "$\\forall i \\in [1, n], \\forall k \\in [1, 2], t_{ik} = \\mathbb{P}(z_{ik} = 1 | X_i = x_i) $\n",
    "\n",
    "On note l'indice ($q$), qui indique la $q^{ème}$ de l'itération.\n",
    "\n",
    "## E-step\n",
    "\n",
    "On a $\\forall i \\in [1, n], t_{i, 1}^{(0)} = \\frac{\\pi_1^{(0)} * D(x_i, \\mu_1, \\sigma_1)}{\\pi_1^{(0)} * D(x_i, \\mu_1, \\sigma_1) + (1 - \\pi_1^{(0)}) * D(x_i, \\mu_2, \\sigma_2)} $\n"
   ]
  },
  {
   "cell_type": "code",
   "execution_count": 119,
   "metadata": {},
   "outputs": [],
   "source": [
    "class Gaussian():\n",
    "    def __init__(self, mu, sigma2):\n",
    "        self.mu = mu\n",
    "        self.sigma2 = sigma2\n",
    "\n",
    "    def __repr__(self):\n",
    "        return f\"Gaussian(µ={self.mu}, σ²={self.sigma2})\"\n",
    "\n",
    "    def pdf(self, x):\n",
    "        return (1 / (self.sigma2 * np.sqrt(2 * np.pi))) * np.exp(-0.5 * ((x - self.mu) / self.sigma2) ** 2)\n",
    "\n",
    "    def plot_pdf(self, x_min, x_max):\n",
    "        x = np.linspace(x_min, x_max, 100)\n",
    "        y = self.pdf(x)\n",
    "        plt.plot(x, y, label=self.__repr__())\n",
    "        plt.grid()\n",
    "        plt.legend()"
   ]
  },
  {
   "cell_type": "code",
   "execution_count": 120,
   "metadata": {},
   "outputs": [],
   "source": [
    "import numpy as np\n",
    "import matplotlib.pyplot as plt\n"
   ]
  },
  {
   "cell_type": "code",
   "execution_count": 121,
   "metadata": {},
   "outputs": [],
   "source": [
    "mu1 = 0\n",
    "mu2 = 4\n",
    "sigma1 = 1\n",
    "sigma2 = 1/2\n",
    "pi1 = 1/3\n",
    "n = 1000\n",
    "\n",
    "Z = np.zeros(n)\n",
    "mixture = np.zeros(n)\n",
    "\n",
    "for k in range(0, n):\n",
    "    tmp = np.random.choice([1, 2], p=[pi1, 1 - pi1])\n",
    "    Z[k] = tmp\n",
    "    if tmp == 1:\n",
    "        mixture[k] = np.random.normal(mu1, sigma1)\n",
    "    else:\n",
    "        mixture[k] = np.random.normal(mu2, sigma2)"
   ]
  },
  {
   "cell_type": "code",
   "execution_count": 122,
   "metadata": {},
   "outputs": [
    {
     "data": {
      "image/png": "[encoded data removed]",
      "text/plain": [
       "<Figure size 640x480 with 1 Axes>"
      ]
     },
     "metadata": {},
     "output_type": "display_data"
    }
   ],
   "source": [
    "plt.grid()\n",
    "plt.hist(mixture, bins=40, density=True)\n",
    "plt.show()\n"
   ]
  },
  {
   "cell_type": "markdown",
   "metadata": {},
   "source": [
    "# Initialisation"
   ]
  },
  {
   "cell_type": "code",
   "execution_count": 123,
   "metadata": {},
   "outputs": [],
   "source": [
    "n = 1000\n",
    "mu1_list = np.array([0])\n",
    "mu2_list = np.array([10])\n",
    "sigma1_list = np.array([5])\n",
    "sigma2_list = np.array([1])\n",
    "pi1_list = np.array([0.5])\n",
    "ti1_list = np.array([0] * n)\n",
    "Q = np.array([])\n",
    "\n",
    "criteria = 10**(-6)"
   ]
  },
  {
   "cell_type": "markdown",
   "metadata": {},
   "source": [
    "# E Step"
   ]
  },
  {
   "cell_type": "code",
   "execution_count": 124,
   "metadata": {},
   "outputs": [],
   "source": [
    "def Gaussian(x, mu, sigma):\n",
    "    return (1 / (sigma * np.sqrt(2 * np.pi))) * np.exp(-0.5 * ((x - mu) / sigma) ** 2)\n",
    "\n",
    "def EM(mu1_list, mu2_list, sigma1_list, sigma2_list, pi1_list, Q, mixture):\n",
    "    \n",
    "    # E-step\n",
    "    tmp = Gaussian(mixture, mu1_list[-1], sigma1_list[-1])\n",
    "    ti1_list = pi1_list[-1] * tmp / (pi1_list[-1] * tmp + (1 - pi1_list[-1]) * Gaussian(mixture, mu2_list[-1], sigma2_list[-1]))\n",
    "    Q = np.append(Q, np.sum( ti1_list * np.log(pi1_list[-1] * Gaussian(mixture, mu1_list[-1], sigma2_list[-1])) + (1 - ti1_list) * np.log((1 - pi1_list[-1]) * Gaussian(mixture, mu2_list[-1], sigma2_list[-1]))))\n",
    "    \n",
    "    # M-step\n",
    "    if (len(Q) == 1 or (np.linalg.norm(np.array([mu1_list[-1], mu2_list[-1], sigma1_list[-1], sigma2_list[-1], pi1_list[-1]]) - np.array([mu1_list[-2], mu2_list[-2], sigma1_list[-2], sigma2_list[-2], pi1_list[-2]])) ** 2 / np.linalg.norm(np.array([mu1_list[-2], mu2_list[-2], sigma1_list[-2], sigma2_list[-2], pi1_list[-2]])) ** 2) > criteria):\n",
    "        mu1_list = np.append(mu1_list, np.sum(ti1_list * mixture) / np.sum(ti1_list))\n",
    "        mu2_list = np.append(mu2_list, np.sum((1 - ti1_list) * mixture) / np.sum(1 - ti1_list))\n",
    "        sigma1_list = np.append(sigma1_list, np.sqrt(np.sum(ti1_list * (mixture - mu1_list[-1]) ** 2) / np.sum(ti1_list)))\n",
    "        sigma2_list = np.append(sigma2_list, np.sqrt(np.sum((1 - ti1_list) * (mixture - mu2_list[-1]) ** 2) / np.sum(1 - ti1_list)))\n",
    "        pi1_list = np.append(pi1_list, np.sum(ti1_list) / n)\n",
    "        return EM(mu1_list, mu2_list, sigma1_list, sigma2_list, pi1_list, Q, mixture)\n",
    "    else:\n",
    "        return mu1_list[-1], mu2_list[-1], sigma1_list[-1], sigma2_list[-1], pi1_list[-1]\n",
    "        "
   ]
  },
  {
   "cell_type": "code",
   "execution_count": 126,
   "metadata": {},
   "outputs": [
    {
     "ename": "TypeError",
     "evalue": "'tuple' object is not callable",
     "output_type": "error",
     "traceback": [
      "\u001b[1;31m---------------------------------------------------------------------------\u001b[0m",
      "\u001b[1;31mTypeError\u001b[0m                                 Traceback (most recent call last)",
      "Cell \u001b[1;32mIn[126], line 1\u001b[0m\n\u001b[1;32m----> 1\u001b[0m EM \u001b[38;5;241m=\u001b[39m \u001b[43mEM\u001b[49m\u001b[43m(\u001b[49m\u001b[43mmu1_list\u001b[49m\u001b[43m,\u001b[49m\u001b[43m \u001b[49m\u001b[43mmu2_list\u001b[49m\u001b[43m,\u001b[49m\u001b[43m \u001b[49m\u001b[43msigma1_list\u001b[49m\u001b[43m,\u001b[49m\u001b[43m \u001b[49m\u001b[43msigma2_list\u001b[49m\u001b[43m,\u001b[49m\u001b[43m \u001b[49m\u001b[43mpi1_list\u001b[49m\u001b[43m,\u001b[49m\u001b[43m \u001b[49m\u001b[43mQ\u001b[49m\u001b[43m,\u001b[49m\u001b[43m \u001b[49m\u001b[43mmixture\u001b[49m\u001b[43m)\u001b[49m\n\u001b[0;32m      2\u001b[0m \u001b[38;5;28mprint\u001b[39m(\u001b[38;5;124m\"\u001b[39m\u001b[38;5;124mIl y a convergence: mu1 = \u001b[39m\u001b[38;5;132;01m{}\u001b[39;00m\u001b[38;5;124m, mu2 = \u001b[39m\u001b[38;5;132;01m{}\u001b[39;00m\u001b[38;5;124m, sigma1 = \u001b[39m\u001b[38;5;132;01m{}\u001b[39;00m\u001b[38;5;124m, sigma2 = \u001b[39m\u001b[38;5;132;01m{}\u001b[39;00m\u001b[38;5;124m, pi1 = \u001b[39m\u001b[38;5;132;01m{}\u001b[39;00m\u001b[38;5;124m\"\u001b[39m\u001b[38;5;241m.\u001b[39mformat(EM[\u001b[38;5;241m0\u001b[39m], EM[\u001b[38;5;241m1\u001b[39m], EM[\u001b[38;5;241m2\u001b[39m], EM[\u001b[38;5;241m3\u001b[39m], EM[\u001b[38;5;241m4\u001b[39m]))\n",
      "\u001b[1;31mTypeError\u001b[0m: 'tuple' object is not callable"
     ]
    }
   ],
   "source": [
    "EM = EM(mu1_list, mu2_list, sigma1_list, sigma2_list, pi1_list, Q, mixture)\n",
    "print(\"Il y a convergence: mu1 = {}, mu2 = {}, sigma1 = {}, sigma2 = {}, pi1 = {}\".format(EM[0], EM[1], EM[2], EM[3], EM[4]))"
   ]
  }
 ],
 "metadata": {
  "kernelspec": {
   "display_name": "Python 3 (ipykernel)",
   "language": "python",
   "name": "python3"
  },
  "language_info": {
   "codemirror_mode": {
    "name": "ipython",
    "version": 3
   },
   "file_extension": ".py",
   "mimetype": "text/x-python",
   "name": "python",
   "nbconvert_exporter": "python",
   "pygments_lexer": "ipython3",
   "version": "3.12.0"
  }
 },
 "nbformat": 4,
 "nbformat_minor": 4
}
