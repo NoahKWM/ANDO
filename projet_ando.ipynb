{
 "cells": [
  {
   "cell_type": "markdown",
   "metadata": {},
   "source": [
    "## EM Algorithm (2023)\n",
    "\n",
    "On souhaite appliquer l'algorithme EM sur une mixture unidimensionnelle de 2 Gaussiennes, avec pour moyennes, variances et proportions respectives:  $\\mu_1 = 0$, $\\mu_2 = 4$, $\\sigma_1 = 1$, $\\sigma_2 = \\frac{1}{2}$ et $\\pi_1 = \\frac{1}{3}$\n",
    "\n",
    "On note N la taille de la mixture et $X = (x_1, x_2, ..., x_N)$ un échantillon de la mixture.\n",
    "\n",
    "Pour cela, nous allons d'abord implémenter un algorithme EM générique gaussien avec un nombre $K$ inconnu de distributions gaussiennes ($K \\le N$) puis l'appliquer à notre cas particulier.\n",
    "\n",
    "On note $N(x; \\mu, \\sigma)$ la distribution gaussienne et $\\Theta^{(q)} = (\\mu_1^{(q)}, ... ,\\mu_K^{(q)}, \\sigma_1^{(q)}, ...,  \\sigma_K^{(q)}, \\pi_1^{(q)}, ..., \\pi_K^{(q)})$ les paramètres calculés à la $(q)$ ème itération, où $\\forall (q), \\sum_{k=1}^{K} \\pi_k^{(q)} = 1$.\n",
    "\n",
    "La mixture est donc sous la forme:\n",
    "$$\n",
    "\\sum_{j = 1}^{j = K} \\pi_j^{(q)} * N(x_i, \\mu_j^{(q)}, \\sigma_j^{(q)})\n",
    "$$\n"
   ]
  },
  {
   "cell_type": "markdown",
   "metadata": {},
   "source": [
    "## Initialisation de l'algorithme EM\n",
    "\n",
    "Arbitrairement, on pose des valeurs initiales pour $\\Theta^{(0)}$ tels que:\n",
    "- $\\forall k \\in \\{1, ..., K\\}, \\mu_k^{(0)}$ vaut un élément de $X$ choisi aléatoirement selon une loi uniforme ($\\mu_k^{(0)} = x_i \\ où \\ i$ ~ $U(\\{1, ..., N\\})$),\n",
    "- $\\forall k \\in \\{1, ..., K\\}, \\sigma_k^{(0)} = 1$,\n",
    "- $\\forall k \\in \\{1, ..., K\\}, \\pi_k^{(0)} = \\frac{1}{K}$.\n",
    "\n",
    "\n",
    "Dans la suite, on considèrera: \n",
    "- $\\forall i \\in \\{1, ..., N\\}, \\forall k \\in \\{1, ..., K\\}, z_{i,k}$, la variable latente binaire associé à la composante $x_i$ et qui indique si $x_i$ provient de la distribution $k$.\n",
    "- $\\forall i \\in \\{1, ..., N\\}, \\forall k \\in \\{1, ..., K\\}, t_{i,k} = \\mathbb{P}(z_{ik} = 1 | X_i = x_i)$, la probabilité conditionnelle que $z_{ik} = 1$ sachant $x_i$.\n",
    "\n",
    "On note l'indice ($q$), qui indique la $q^{ème}$ de l'itération.\n",
    "\n"
   ]
  },
  {
   "cell_type": "code",
   "execution_count": 2,
   "metadata": {},
   "outputs": [],
   "source": [
    "##==============================================================================\n",
    "# Imports\n",
    "##==============================================================================\n",
    "import numpy as np\n",
    "import matplotlib.pyplot as plt\n",
    "import random"
   ]
  },
  {
   "cell_type": "code",
   "execution_count": 3,
   "metadata": {},
   "outputs": [],
   "source": [
    "##==============================================================================\n",
    "# Class Gaussian\n",
    "#\n",
    "# Cette classe permet de créer une distribution gaussienne à partir de sa moyenne et de sa variance\n",
    "##==============================================================================\n",
    "class Gaussian():\n",
    "    def __init__(self, mu, sigma2):\n",
    "        self.mu = mu\n",
    "        self.sigma2 = sigma2\n",
    "\n",
    "    def __repr__(self):\n",
    "        return f\"Gaussian(µ={self.mu}, σ²={self.sigma2})\"\n",
    "\n",
    "    def pdf(self, x):\n",
    "        return (1 / (self.sigma2 * np.sqrt(2 * np.pi))) * np.exp(-0.5 * ((x - self.mu) / self.sigma2) ** 2)\n",
    "\n",
    "    def plot_pdf(self, x_min, x_max):\n",
    "        x = np.linspace(x_min, x_max, 100)\n",
    "        y = self.pdf(x)\n",
    "        plt.plot(x, y, label=self.__repr__())\n",
    "        plt.grid()\n",
    "        plt.legend()"
   ]
  },
  {
   "cell_type": "markdown",
   "metadata": {},
   "source": [
    "## E-step\n",
    "\n",
    "On a:\n",
    "$$\n",
    "\\forall i \\in \\{1, ..., N\\}, \\forall k \\in \\{1, ..., K\\}, \\forall (q), t_{i, k}^{(q)} = \\frac{\\pi_k^{(q)} * D(x_i, \\mu_k^{(q)}, \\sigma_k^{(q)})}{\\sum_{j = 1}^{j = K} \\pi_j^{(q)} * D(x_i, \\mu_j^{(q)}, \\sigma_j^{(q)})}\n",
    "$$\n",
    "\n",
    "*Justification:* On utilise la formule de Bayes. \n",
    "\n",
    "On calcule ensuite l'expression $Q(\\Theta, \\Theta^{(q)}) = \\mathbb{E}_{Z|X, \\Theta^{(q)}}[log(P(X, Z; \\Theta))]$, où $log(P(X, Z; \\Theta))$ est la log-vraisemblance de la mixture.\n",
    "\n",
    "Dans le cas de distributions gaussiens, on a: $Q(\\Theta, \\Theta^{(q)}) = \\mathbb{E}_{Z|X, \\Theta^{(q)}} [log(\\prod_{i = 1}^{i = N} \\sum_{k = 1}^{k = K} \\pi_k^{(q)} * N(x_i, \\mu_k^{(q)}, \\sigma_k^{(q)}))]$."
   ]
  },
  {
   "cell_type": "code",
   "execution_count": 181,
   "metadata": {},
   "outputs": [],
   "source": [
    "mu1 = 0\n",
    "mu2 = 4\n",
    "sigma1 = 1\n",
    "sigma2 = 1/2\n",
    "pi1 = 1/3\n",
    "n = 1000\n",
    "\n",
    "Z = np.zeros(n)\n",
    "mixture = np.zeros(n)\n",
    "\n",
    "for k in range(0, n):\n",
    "    tmp = np.random.choice([1, 2], p=[pi1, 1 - pi1])\n",
    "    Z[k] = tmp\n",
    "    if tmp == 1:\n",
    "        mixture[k] = np.random.normal(mu1, sigma1)\n",
    "    else:\n",
    "        mixture[k] = np.random.normal(mu2, sigma2)"
   ]
  },
  {
   "cell_type": "code",
   "execution_count": 182,
   "metadata": {},
   "outputs": [
    {
     "data": {
      "image/png": "[encoded data removed]",
      "text/plain": [
       "<Figure size 640x480 with 1 Axes>"
      ]
     },
     "metadata": {},
     "output_type": "display_data"
    }
   ],
   "source": [
    "plt.grid()\n",
    "plt.hist(mixture, bins=40, density=True)\n",
    "plt.show()\n"
   ]
  },
  {
   "cell_type": "markdown",
   "metadata": {},
   "source": [
    "# Initialisation"
   ]
  },
  {
   "cell_type": "code",
   "execution_count": 183,
   "metadata": {},
   "outputs": [],
   "source": [
    "n = 1000\n",
    "\n",
    "mu1_list = np.array([mixture[random.randint(0, n - 1)]])\n",
    "mu2_list = np.array([mixture[random.randint(0, n - 1)]])\n",
    "sigma1_list = np.array([1])\n",
    "sigma2_list = np.array([1])\n",
    "pi1_list = np.array([0.5])\n",
    "ti1_list = np.array([0] * n)\n",
    "Q = np.array([])\n",
    "\n",
    "criteria = 10**(-6)"
   ]
  },
  {
   "cell_type": "markdown",
   "metadata": {},
   "source": [
    "# E Step"
   ]
  },
  {
   "cell_type": "code",
   "execution_count": 184,
   "metadata": {},
   "outputs": [],
   "source": [
    "def Gaussian(x, mu, sigma):\n",
    "    return (1 / (sigma * np.sqrt(2 * np.pi))) * np.exp(-0.5 * ((x - mu) / sigma) ** 2)\n",
    "\n",
    "def EM(mu1_list, mu2_list, sigma1_list, sigma2_list, pi1_list, Q, mixture):\n",
    "    \n",
    "    # E-step\n",
    "    tmp = Gaussian(mixture, mu1_list[-1], sigma1_list[-1])\n",
    "    ti1_list = pi1_list[-1] * tmp / (pi1_list[-1] * tmp + (1 - pi1_list[-1]) * Gaussian(mixture, mu2_list[-1], sigma2_list[-1]))\n",
    "    gauss1 = Gaussian(mixture, mu1_list[-1], sigma1_list[-1])\n",
    "    gauss2 = Gaussian(mixture, mu2_list[-1], sigma2_list[-1])\n",
    "    Q = np.append(Q, np.sum( ti1_list * np.log(pi1_list[-1] * gauss1) + (1 - ti1_list) * np.log((1 - pi1_list[-1]) * gauss2)))\n",
    "    \n",
    "    # M-step\n",
    "    if (len(Q) == 1 or (np.linalg.norm(np.array([mu1_list[-1], mu2_list[-1], sigma1_list[-1], sigma2_list[-1], pi1_list[-1]]) - np.array([mu1_list[-2], mu2_list[-2], sigma1_list[-2], sigma2_list[-2], pi1_list[-2]])) ** 2 / np.linalg.norm(np.array([mu1_list[-2], mu2_list[-2], sigma1_list[-2], sigma2_list[-2], pi1_list[-2]])) ** 2) > criteria):\n",
    "        mu1_list = np.append(mu1_list, np.sum(ti1_list * mixture) / np.sum(ti1_list))\n",
    "        mu2_list = np.append(mu2_list, np.sum((1 - ti1_list) * mixture) / np.sum(1 - ti1_list))\n",
    "        sigma1_list = np.append(sigma1_list, np.sqrt(np.sum(ti1_list * (mixture - mu1_list[-1]) ** 2) / np.sum(ti1_list)))\n",
    "        sigma2_list = np.append(sigma2_list, np.sqrt(np.sum((1 - ti1_list) * (mixture - mu2_list[-1]) ** 2) / np.sum(1 - ti1_list)))\n",
    "        pi1_list = np.append(pi1_list, np.sum(ti1_list) / n)\n",
    "        return EM(mu1_list, mu2_list, sigma1_list, sigma2_list, pi1_list, Q, mixture)\n",
    "    else:\n",
    "        return mu1_list[-1], mu2_list[-1], sigma1_list[-1], sigma2_list[-1], pi1_list[-1]\n",
    "        "
   ]
  },
  {
   "cell_type": "code",
   "execution_count": 185,
   "metadata": {},
   "outputs": [
    {
     "name": "stdout",
     "output_type": "stream",
     "text": [
      "Il y a convergence: mu1 = 0.057165337508283204, mu2 = 3.988402528769356, sigma1 = 1.0510114529598558, sigma2 = 0.4866232149942056, pi1 = 0.34024200366980606\n"
     ]
    }
   ],
   "source": [
    "em = EM(mu1_list, mu2_list, sigma1_list, sigma2_list, pi1_list, Q, mixture)\n",
    "print(\"Il y a convergence: mu1 = {}, mu2 = {}, sigma1 = {}, sigma2 = {}, pi1 = {}\".format(em[0], em[1], em[2], em[3], em[4]))"
   ]
  }
 ],
 "metadata": {
  "kernelspec": {
   "display_name": "Python 3 (ipykernel)",
   "language": "python",
   "name": "python3"
  },
  "language_info": {
   "codemirror_mode": {
    "name": "ipython",
    "version": 3
   },
   "file_extension": ".py",
   "mimetype": "text/x-python",
   "name": "python",
   "nbconvert_exporter": "python",
   "pygments_lexer": "ipython3",
   "version": "3.10.6"
  }
 },
 "nbformat": 4,
 "nbformat_minor": 4
}
